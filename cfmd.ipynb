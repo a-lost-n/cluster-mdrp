{
 "cells": [
  {
   "cell_type": "code",
   "execution_count": 1,
   "metadata": {},
   "outputs": [],
   "source": [
    "from src import *"
   ]
  },
  {
   "cell_type": "code",
   "execution_count": 21,
   "metadata": {},
   "outputs": [
    {
     "data": {
      "text/plain": [
       "array([39.0344, 40.3313])"
      ]
     },
     "execution_count": 21,
     "metadata": {},
     "output_type": "execute_result"
    }
   ],
   "source": [
    "c_pos = np.array([35.24, 36.23])\n",
    "dist = 3.45\n",
    "d_pos = np.array([23, 23])\n",
    "c_pos += (c_pos - d_pos) * (5 - dist)/5\n",
    "c_pos"
   ]
  },
  {
   "attachments": {},
   "cell_type": "markdown",
   "metadata": {},
   "source": [
    "# Caso 1: 10 Locales, 100x100 grid"
   ]
  },
  {
   "cell_type": "code",
   "execution_count": 2,
   "metadata": {},
   "outputs": [],
   "source": [
    "map = Map(restaurant_array=[2,6,2], grid_size=100, randseed=25)"
   ]
  },
  {
   "cell_type": "code",
   "execution_count": 3,
   "metadata": {},
   "outputs": [
    {
     "data": {
      "image/png": "[encoded data removed]",
      "text/plain": [
       "<Figure size 640x480 with 1 Axes>"
      ]
     },
     "metadata": {},
     "output_type": "display_data"
    }
   ],
   "source": [
    "map.display_map_clusters()"
   ]
  },
  {
   "cell_type": "code",
   "execution_count": 4,
   "metadata": {},
   "outputs": [],
   "source": [
    "time = datetime.time(11,0,0)\n",
    "map.clusters[0].build_prediction(time)"
   ]
  },
  {
   "cell_type": "code",
   "execution_count": 14,
   "metadata": {},
   "outputs": [],
   "source": [
    "time = nextStamp(time)"
   ]
  },
  {
   "cell_type": "code",
   "execution_count": 15,
   "metadata": {},
   "outputs": [
    {
     "data": {
      "text/plain": [
       "datetime.time(11, 35)"
      ]
     },
     "execution_count": 15,
     "metadata": {},
     "output_type": "execute_result"
    }
   ],
   "source": [
    "time"
   ]
  },
  {
   "cell_type": "code",
   "execution_count": 9,
   "metadata": {},
   "outputs": [
    {
     "name": "stdout",
     "output_type": "stream",
     "text": [
      "Restaurant ID: 1\n",
      "Destination: [2 4]\n",
      "Time on Restaurant: 11:25:00\n",
      "Time on Destination: 11:42:00\n"
     ]
    }
   ],
   "source": [
    "map.clusters[0].produce(time)\n",
    "map.clusters[0].active_orders[0].display_info()"
   ]
  },
  {
   "cell_type": "code",
   "execution_count": 16,
   "metadata": {},
   "outputs": [],
   "source": [
    "map.clusters[0].invoke_courier()"
   ]
  },
  {
   "cell_type": "code",
   "execution_count": 17,
   "metadata": {},
   "outputs": [],
   "source": [
    "courier = map.clusters[0].assign_next_courier()"
   ]
  },
  {
   "cell_type": "code",
   "execution_count": 18,
   "metadata": {},
   "outputs": [
    {
     "name": "stdout",
     "output_type": "stream",
     "text": [
      "Position: [83 70]\n",
      "State: to_restaurant\n",
      "Order Info:\n",
      "Restaurant ID: 1\n",
      "Destination: [2 4]\n",
      "Time on Restaurant: 11:25:00\n",
      "Time on Destination: 11:42:00\n"
     ]
    }
   ],
   "source": [
    "courier.display_info()"
   ]
  },
  {
   "cell_type": "code",
   "execution_count": 19,
   "metadata": {},
   "outputs": [
    {
     "name": "stdout",
     "output_type": "stream",
     "text": [
      "50 6.4031242374328485\n",
      "43.59687576256715\n"
     ]
    },
    {
     "ename": "UFuncTypeError",
     "evalue": "Cannot cast ufunc 'add' output from dtype('float64') to dtype('int64') with casting rule 'same_kind'",
     "output_type": "error",
     "traceback": [
      "\u001b[0;31m---------------------------------------------------------------------------\u001b[0m",
      "\u001b[0;31mUFuncTypeError\u001b[0m                            Traceback (most recent call last)",
      "Cell \u001b[0;32mIn[19], line 1\u001b[0m\n\u001b[0;32m----> 1\u001b[0m \u001b[39mmap\u001b[39m\u001b[39m.\u001b[39mmove_courier(courier, time)\n",
      "File \u001b[0;32m~/Tesis/cluster-mdrp/src/map.py:91\u001b[0m, in \u001b[0;36mMap.move_courier\u001b[0;34m(self, courier, time, movement)\u001b[0m\n\u001b[1;32m     70\u001b[0m     courier\u001b[39m.\u001b[39mdebt_time \u001b[39m-\u001b[39m\u001b[39m=\u001b[39m movement\n\u001b[1;32m     71\u001b[0m     \u001b[39mreturn\u001b[39;00m \u001b[39m0\u001b[39m\n\u001b[1;32m     72\u001b[0m \u001b[39mmatch\u001b[39;00m courier\u001b[39m.\u001b[39mstate:\n\u001b[1;32m     73\u001b[0m     \u001b[39mcase\u001b[39;00m \u001b[39m\"\u001b[39m\u001b[39mto_restaurant\u001b[39m\u001b[39m\"\u001b[39m:\n\u001b[1;32m     74\u001b[0m         courier\u001b[39m.\u001b[39mcluster_id \u001b[39m=\u001b[39m \u001b[39m-\u001b[39m\u001b[39m1\u001b[39m\n\u001b[1;32m     75\u001b[0m         restaurant \u001b[39m=\u001b[39m \u001b[39mself\u001b[39m\u001b[39m.\u001b[39mrestaurants[courier\u001b[39m.\u001b[39morder\u001b[39m.\u001b[39mrestaurant_id]\n\u001b[1;32m     76\u001b[0m         dist \u001b[39m=\u001b[39m np\u001b[39m.\u001b[39mlinalg\u001b[39m.\u001b[39mnorm(courier\u001b[39m.\u001b[39mpos \u001b[39m-\u001b[39m restaurant\u001b[39m.\u001b[39mpos)\n\u001b[1;32m     77\u001b[0m \n\u001b[1;32m     78\u001b[0m         \u001b[39m# Si la distancia es mayor de lo que nos movemos nos quedamos a mitad de camino\u001b[39;00m\n\u001b[1;32m     79\u001b[0m         \u001b[39mif\u001b[39;00m dist \u001b[39m>\u001b[39m movement:\n\u001b[1;32m     80\u001b[0m             courier\u001b[39m.\u001b[39mpos \u001b[39m+\u001b[39m\u001b[39m=\u001b[39m (restaurant\u001b[39m.\u001b[39mpos \u001b[39m-\u001b[39m courier\u001b[39m.\u001b[39mpos) \u001b[39m*\u001b[39m (dist \u001b[39m-\u001b[39m movement)\u001b[39m/\u001b[39mdist\n\u001b[1;32m     81\u001b[0m \n\u001b[1;32m     82\u001b[0m         \u001b[39m# Si la distancia es menor y aún no llega la orden se espera\u001b[39;00m\n\u001b[1;32m     83\u001b[0m         \u001b[39melse\u001b[39;00m:\n\u001b[1;32m     84\u001b[0m             courier\u001b[39m.\u001b[39mpos \u001b[39m=\u001b[39m restaurant\u001b[39m.\u001b[39mpos\n\u001b[1;32m     85\u001b[0m             courier\u001b[39m.\u001b[39mstate \u001b[39m=\u001b[39m \u001b[39m\"\u001b[39m\u001b[39mto_wait_restaurant\u001b[39m\u001b[39m\"\u001b[39m\n\u001b[1;32m     86\u001b[0m \n\u001b[1;32m     87\u001b[0m             \u001b[39m# Si la distancia es menor y ya está la orden ir de inmediato al destino\u001b[39;00m\n\u001b[1;32m     88\u001b[0m             \u001b[39mif\u001b[39;00m courier\u001b[39m.\u001b[39morder\u001b[39m.\u001b[39mon_time_restaurant \u001b[39m<\u001b[39m\u001b[39m=\u001b[39m time:\n\u001b[1;32m     89\u001b[0m                 \u001b[39mprint\u001b[39m(movement, dist)\n\u001b[1;32m     90\u001b[0m                 \u001b[39mprint\u001b[39m(movement \u001b[39m-\u001b[39m dist)\n\u001b[0;32m---> 91\u001b[0m                 \u001b[39mreturn\u001b[39;00m \u001b[39mself\u001b[39m\u001b[39m.\u001b[39mmove_courier(courier, time, movement\u001b[39m=\u001b[39m\u001b[39mfloat\u001b[39m(movement)\u001b[39m-\u001b[39mdist)\n\u001b[1;32m     92\u001b[0m         \u001b[39mreturn\u001b[39;00m \u001b[39m0\u001b[39m\n\u001b[1;32m     93\u001b[0m \n\u001b[1;32m     94\u001b[0m     \u001b[39mcase\u001b[39;00m \u001b[39m\"\u001b[39m\u001b[39mto_wait_restaurant\u001b[39m\u001b[39m\"\u001b[39m:\n\u001b[1;32m     95\u001b[0m         \u001b[39mif\u001b[39;00m courier\u001b[39m.\u001b[39morder\u001b[39m.\u001b[39mon_time_restaurant \u001b[39m<\u001b[39m\u001b[39m=\u001b[39m time:\n\u001b[1;32m     96\u001b[0m             courier\u001b[39m.\u001b[39mstate \u001b[39m=\u001b[39m \u001b[39m\"\u001b[39m\u001b[39mto_destination\u001b[39m\u001b[39m\"\u001b[39m\n\u001b[1;32m     97\u001b[0m             courier\u001b[39m.\u001b[39mwith_order \u001b[39m=\u001b[39m \u001b[39mTrue\u001b[39;00m\n\u001b[1;32m     98\u001b[0m             \u001b[39mif\u001b[39;00m movement \u001b[39m<\u001b[39m\u001b[39m=\u001b[39m EXPECTED_ATTENDING_RESTAURANT:\n\u001b[1;32m     99\u001b[0m                 courier\u001b[39m.\u001b[39mdebt_time \u001b[39m=\u001b[39m EXPECTED_ATTENDING_RESTAURANT \u001b[39m-\u001b[39m movement\n\u001b[1;32m    100\u001b[0m             \u001b[39melse\u001b[39;00m:\n\u001b[1;32m    101\u001b[0m                 \u001b[39mreturn\u001b[39;00m \u001b[39mself\u001b[39m\u001b[39m.\u001b[39mmove_courier(courier\u001b[39m=\u001b[39mcourier, time\u001b[39m=\u001b[39mtime, movement\u001b[39m=\u001b[39m\u001b[39mfloat\u001b[39m(movement)\u001b[39m-\u001b[39mEXPECTED_ATTENDING_RESTAURANT)\n\u001b[1;32m    102\u001b[0m         \u001b[39mreturn\u001b[39;00m \u001b[39m0\u001b[39m\n\u001b[1;32m    103\u001b[0m \n\u001b[1;32m    104\u001b[0m     \u001b[39mcase\u001b[39;00m \u001b[39m\"\u001b[39m\u001b[39mto_destination\u001b[39m\u001b[39m\"\u001b[39m:\n\u001b[1;32m    105\u001b[0m         dist \u001b[39m=\u001b[39m np\u001b[39m.\u001b[39mlinalg\u001b[39m.\u001b[39mnorm(courier\u001b[39m.\u001b[39mpos \u001b[39m-\u001b[39m courier\u001b[39m.\u001b[39morder\u001b[39m.\u001b[39mdestination_pos)\n\u001b[1;32m    106\u001b[0m         \u001b[39mif\u001b[39;00m dist \u001b[39m>\u001b[39m movement:\n\u001b[1;32m    107\u001b[0m             courier\u001b[39m.\u001b[39mpos \u001b[39m+\u001b[39m\u001b[39m=\u001b[39m (courier\u001b[39m.\u001b[39morder\u001b[39m.\u001b[39mdestination_pos \u001b[39m-\u001b[39m courier\u001b[39m.\u001b[39mpos) \u001b[39m*\u001b[39m (dist \u001b[39m-\u001b[39m movement)\u001b[39m/\u001b[39mdist\n\u001b[1;32m    108\u001b[0m         \u001b[39melse\u001b[39;00m:\n\u001b[1;32m    109\u001b[0m             courier\u001b[39m.\u001b[39mpos \u001b[39m=\u001b[39m courier\u001b[39m.\u001b[39morder\u001b[39m.\u001b[39mdestination_pos\n\u001b[1;32m    110\u001b[0m             courier\u001b[39m.\u001b[39mstate \u001b[39m=\u001b[39m \u001b[39m\"\u001b[39m\u001b[39mto_wait_destination\u001b[39m\u001b[39m\"\u001b[39m\n\u001b[1;32m    111\u001b[0m             delay \u001b[39m=\u001b[39m \u001b[39m-\u001b[39mcalculateDelay(time, dist, courier\u001b[39m.\u001b[39morder\u001b[39m.\u001b[39mon_time_destination)\n\u001b[1;32m    112\u001b[0m             \u001b[39mreturn\u001b[39;00m \u001b[39mmin\u001b[39m(delay, \u001b[39m0\u001b[39m)\n\u001b[1;32m    113\u001b[0m         \u001b[39mreturn\u001b[39;00m \u001b[39m0\u001b[39m\n\u001b[1;32m    114\u001b[0m \n\u001b[1;32m    115\u001b[0m     \u001b[39mcase\u001b[39;00m \u001b[39m\"\u001b[39m\u001b[39mto_wait_destination\u001b[39m\u001b[39m\"\u001b[39m:\n\u001b[1;32m    116\u001b[0m         courier\u001b[39m.\u001b[39mstate \u001b[39m=\u001b[39m \u001b[39m\"\u001b[39m\u001b[39mto_cluster\u001b[39m\u001b[39m\"\u001b[39m\n\u001b[1;32m    117\u001b[0m         courier\u001b[39m.\u001b[39mwith_order \u001b[39m=\u001b[39m \u001b[39mFalse\u001b[39;00m\n\u001b[1;32m    118\u001b[0m         courier\u001b[39m.\u001b[39mcluster_id \u001b[39m=\u001b[39m \u001b[39mself\u001b[39m\u001b[39m.\u001b[39mclosest_cluster(courier\u001b[39m.\u001b[39mpos)\n\u001b[1;32m    119\u001b[0m         \u001b[39mif\u001b[39;00m movement \u001b[39m<\u001b[39m\u001b[39m=\u001b[39m EXPECTED_ATTENDING_DESTINATION:\n\u001b[1;32m    120\u001b[0m             courier\u001b[39m.\u001b[39mdebt_time \u001b[39m=\u001b[39m EXPECTED_ATTENDING_DESTINATION \u001b[39m-\u001b[39m movement\n\u001b[1;32m    121\u001b[0m         \u001b[39melse\u001b[39;00m:\n\u001b[1;32m    122\u001b[0m             \u001b[39mreturn\u001b[39;00m \u001b[39mself\u001b[39m\u001b[39m.\u001b[39mmove_courier(courier\u001b[39m=\u001b[39mcourier, time\u001b[39m=\u001b[39mtime, movement\u001b[39m=\u001b[39m\u001b[39mfloat\u001b[39m(movement)\u001b[39m-\u001b[39mEXPECTED_ATTENDING_DESTINATION)\n\u001b[1;32m    123\u001b[0m         \u001b[39mreturn\u001b[39;00m \u001b[39m0\u001b[39m\n\u001b[1;32m    124\u001b[0m     \n\u001b[1;32m    125\u001b[0m     \u001b[39mcase\u001b[39;00m \u001b[39m\"\u001b[39m\u001b[39mto_cluster\u001b[39m\u001b[39m\"\u001b[39m:\n\u001b[1;32m    126\u001b[0m         cent \u001b[39m=\u001b[39m \u001b[39mself\u001b[39m\u001b[39m.\u001b[39mcentroids[courier\u001b[39m.\u001b[39mcluster_id]\n\u001b[1;32m    127\u001b[0m         dist \u001b[39m=\u001b[39m np\u001b[39m.\u001b[39mlinalg\u001b[39m.\u001b[39mnorm(courier\u001b[39m.\u001b[39mpos \u001b[39m-\u001b[39m cent)\n\u001b[1;32m    128\u001b[0m         courier\u001b[39m.\u001b[39morder \u001b[39m=\u001b[39m \u001b[39mNone\u001b[39;00m\n\u001b[1;32m    129\u001b[0m         \u001b[39mif\u001b[39;00m dist \u001b[39m>\u001b[39m movement:\n\u001b[1;32m    130\u001b[0m             courier\u001b[39m.\u001b[39mpos \u001b[39m+\u001b[39m\u001b[39m=\u001b[39m (cent \u001b[39m-\u001b[39m courier\u001b[39m.\u001b[39mpos) \u001b[39m*\u001b[39m (dist \u001b[39m-\u001b[39m movement)\u001b[39m/\u001b[39mdist\n\u001b[1;32m    131\u001b[0m         \u001b[39melse\u001b[39;00m:\n\u001b[1;32m    132\u001b[0m             courier\u001b[39m.\u001b[39mpos \u001b[39m=\u001b[39m cent\n\u001b[1;32m    133\u001b[0m             \u001b[39mself\u001b[39m\u001b[39m.\u001b[39mclusters[courier\u001b[39m.\u001b[39mcluster_id]\u001b[39m.\u001b[39mqueue_courier(courier)\n\u001b[1;32m    134\u001b[0m         \u001b[39mreturn\u001b[39;00m \u001b[39m0\u001b[39m\n",
      "File \u001b[0;32m~/Tesis/cluster-mdrp/src/map.py:101\u001b[0m, in \u001b[0;36mMap.move_courier\u001b[0;34m(self, courier, time, movement)\u001b[0m\n\u001b[1;32m     70\u001b[0m     courier\u001b[39m.\u001b[39mdebt_time \u001b[39m-\u001b[39m\u001b[39m=\u001b[39m movement\n\u001b[1;32m     71\u001b[0m     \u001b[39mreturn\u001b[39;00m \u001b[39m0\u001b[39m\n\u001b[1;32m     72\u001b[0m \u001b[39mmatch\u001b[39;00m courier\u001b[39m.\u001b[39mstate:\n\u001b[1;32m     73\u001b[0m     \u001b[39mcase\u001b[39;00m \u001b[39m\"\u001b[39m\u001b[39mto_restaurant\u001b[39m\u001b[39m\"\u001b[39m:\n\u001b[1;32m     74\u001b[0m         courier\u001b[39m.\u001b[39mcluster_id \u001b[39m=\u001b[39m \u001b[39m-\u001b[39m\u001b[39m1\u001b[39m\n\u001b[1;32m     75\u001b[0m         restaurant \u001b[39m=\u001b[39m \u001b[39mself\u001b[39m\u001b[39m.\u001b[39mrestaurants[courier\u001b[39m.\u001b[39morder\u001b[39m.\u001b[39mrestaurant_id]\n\u001b[1;32m     76\u001b[0m         dist \u001b[39m=\u001b[39m np\u001b[39m.\u001b[39mlinalg\u001b[39m.\u001b[39mnorm(courier\u001b[39m.\u001b[39mpos \u001b[39m-\u001b[39m restaurant\u001b[39m.\u001b[39mpos)\n\u001b[1;32m     77\u001b[0m \n\u001b[1;32m     78\u001b[0m         \u001b[39m# Si la distancia es mayor de lo que nos movemos nos quedamos a mitad de camino\u001b[39;00m\n\u001b[1;32m     79\u001b[0m         \u001b[39mif\u001b[39;00m dist \u001b[39m>\u001b[39m movement:\n\u001b[1;32m     80\u001b[0m             courier\u001b[39m.\u001b[39mpos \u001b[39m+\u001b[39m\u001b[39m=\u001b[39m (restaurant\u001b[39m.\u001b[39mpos \u001b[39m-\u001b[39m courier\u001b[39m.\u001b[39mpos) \u001b[39m*\u001b[39m (dist \u001b[39m-\u001b[39m movement)\u001b[39m/\u001b[39mdist\n\u001b[1;32m     81\u001b[0m \n\u001b[1;32m     82\u001b[0m         \u001b[39m# Si la distancia es menor y aún no llega la orden se espera\u001b[39;00m\n\u001b[1;32m     83\u001b[0m         \u001b[39melse\u001b[39;00m:\n\u001b[1;32m     84\u001b[0m             courier\u001b[39m.\u001b[39mpos \u001b[39m=\u001b[39m restaurant\u001b[39m.\u001b[39mpos\n\u001b[1;32m     85\u001b[0m             courier\u001b[39m.\u001b[39mstate \u001b[39m=\u001b[39m \u001b[39m\"\u001b[39m\u001b[39mto_wait_restaurant\u001b[39m\u001b[39m\"\u001b[39m\n\u001b[1;32m     86\u001b[0m \n\u001b[1;32m     87\u001b[0m             \u001b[39m# Si la distancia es menor y ya está la orden ir de inmediato al destino\u001b[39;00m\n\u001b[1;32m     88\u001b[0m             \u001b[39mif\u001b[39;00m courier\u001b[39m.\u001b[39morder\u001b[39m.\u001b[39mon_time_restaurant \u001b[39m<\u001b[39m\u001b[39m=\u001b[39m time:\n\u001b[1;32m     89\u001b[0m                 \u001b[39mprint\u001b[39m(movement, dist)\n\u001b[1;32m     90\u001b[0m                 \u001b[39mprint\u001b[39m(movement \u001b[39m-\u001b[39m dist)\n\u001b[1;32m     91\u001b[0m                 \u001b[39mreturn\u001b[39;00m \u001b[39mself\u001b[39m\u001b[39m.\u001b[39mmove_courier(courier, time, movement\u001b[39m=\u001b[39m\u001b[39mfloat\u001b[39m(movement)\u001b[39m-\u001b[39mdist)\n\u001b[1;32m     92\u001b[0m         \u001b[39mreturn\u001b[39;00m \u001b[39m0\u001b[39m\n\u001b[1;32m     93\u001b[0m \n\u001b[1;32m     94\u001b[0m     \u001b[39mcase\u001b[39;00m \u001b[39m\"\u001b[39m\u001b[39mto_wait_restaurant\u001b[39m\u001b[39m\"\u001b[39m:\n\u001b[1;32m     95\u001b[0m         \u001b[39mif\u001b[39;00m courier\u001b[39m.\u001b[39morder\u001b[39m.\u001b[39mon_time_restaurant \u001b[39m<\u001b[39m\u001b[39m=\u001b[39m time:\n\u001b[1;32m     96\u001b[0m             courier\u001b[39m.\u001b[39mstate \u001b[39m=\u001b[39m \u001b[39m\"\u001b[39m\u001b[39mto_destination\u001b[39m\u001b[39m\"\u001b[39m\n\u001b[1;32m     97\u001b[0m             courier\u001b[39m.\u001b[39mwith_order \u001b[39m=\u001b[39m \u001b[39mTrue\u001b[39;00m\n\u001b[1;32m     98\u001b[0m             \u001b[39mif\u001b[39;00m movement \u001b[39m<\u001b[39m\u001b[39m=\u001b[39m EXPECTED_ATTENDING_RESTAURANT:\n\u001b[1;32m     99\u001b[0m                 courier\u001b[39m.\u001b[39mdebt_time \u001b[39m=\u001b[39m EXPECTED_ATTENDING_RESTAURANT \u001b[39m-\u001b[39m movement\n\u001b[1;32m    100\u001b[0m             \u001b[39melse\u001b[39;00m:\n\u001b[0;32m--> 101\u001b[0m                 \u001b[39mreturn\u001b[39;00m \u001b[39mself\u001b[39m\u001b[39m.\u001b[39mmove_courier(courier\u001b[39m=\u001b[39mcourier, time\u001b[39m=\u001b[39mtime, movement\u001b[39m=\u001b[39m\u001b[39mfloat\u001b[39m(movement)\u001b[39m-\u001b[39mEXPECTED_ATTENDING_RESTAURANT)\n\u001b[1;32m    102\u001b[0m         \u001b[39mreturn\u001b[39;00m \u001b[39m0\u001b[39m\n\u001b[1;32m    103\u001b[0m \n\u001b[1;32m    104\u001b[0m     \u001b[39mcase\u001b[39;00m \u001b[39m\"\u001b[39m\u001b[39mto_destination\u001b[39m\u001b[39m\"\u001b[39m:\n\u001b[1;32m    105\u001b[0m         dist \u001b[39m=\u001b[39m np\u001b[39m.\u001b[39mlinalg\u001b[39m.\u001b[39mnorm(courier\u001b[39m.\u001b[39mpos \u001b[39m-\u001b[39m courier\u001b[39m.\u001b[39morder\u001b[39m.\u001b[39mdestination_pos)\n\u001b[1;32m    106\u001b[0m         \u001b[39mif\u001b[39;00m dist \u001b[39m>\u001b[39m movement:\n\u001b[1;32m    107\u001b[0m             courier\u001b[39m.\u001b[39mpos \u001b[39m+\u001b[39m\u001b[39m=\u001b[39m (courier\u001b[39m.\u001b[39morder\u001b[39m.\u001b[39mdestination_pos \u001b[39m-\u001b[39m courier\u001b[39m.\u001b[39mpos) \u001b[39m*\u001b[39m (dist \u001b[39m-\u001b[39m movement)\u001b[39m/\u001b[39mdist\n\u001b[1;32m    108\u001b[0m         \u001b[39melse\u001b[39;00m:\n\u001b[1;32m    109\u001b[0m             courier\u001b[39m.\u001b[39mpos \u001b[39m=\u001b[39m courier\u001b[39m.\u001b[39morder\u001b[39m.\u001b[39mdestination_pos\n\u001b[1;32m    110\u001b[0m             courier\u001b[39m.\u001b[39mstate \u001b[39m=\u001b[39m \u001b[39m\"\u001b[39m\u001b[39mto_wait_destination\u001b[39m\u001b[39m\"\u001b[39m\n\u001b[1;32m    111\u001b[0m             delay \u001b[39m=\u001b[39m \u001b[39m-\u001b[39mcalculateDelay(time, dist, courier\u001b[39m.\u001b[39morder\u001b[39m.\u001b[39mon_time_destination)\n\u001b[1;32m    112\u001b[0m             \u001b[39mreturn\u001b[39;00m \u001b[39mmin\u001b[39m(delay, \u001b[39m0\u001b[39m)\n\u001b[1;32m    113\u001b[0m         \u001b[39mreturn\u001b[39;00m \u001b[39m0\u001b[39m\n\u001b[1;32m    114\u001b[0m \n\u001b[1;32m    115\u001b[0m     \u001b[39mcase\u001b[39;00m \u001b[39m\"\u001b[39m\u001b[39mto_wait_destination\u001b[39m\u001b[39m\"\u001b[39m:\n\u001b[1;32m    116\u001b[0m         courier\u001b[39m.\u001b[39mstate \u001b[39m=\u001b[39m \u001b[39m\"\u001b[39m\u001b[39mto_cluster\u001b[39m\u001b[39m\"\u001b[39m\n\u001b[1;32m    117\u001b[0m         courier\u001b[39m.\u001b[39mwith_order \u001b[39m=\u001b[39m \u001b[39mFalse\u001b[39;00m\n\u001b[1;32m    118\u001b[0m         courier\u001b[39m.\u001b[39mcluster_id \u001b[39m=\u001b[39m \u001b[39mself\u001b[39m\u001b[39m.\u001b[39mclosest_cluster(courier\u001b[39m.\u001b[39mpos)\n\u001b[1;32m    119\u001b[0m         \u001b[39mif\u001b[39;00m movement \u001b[39m<\u001b[39m\u001b[39m=\u001b[39m EXPECTED_ATTENDING_DESTINATION:\n\u001b[1;32m    120\u001b[0m             courier\u001b[39m.\u001b[39mdebt_time \u001b[39m=\u001b[39m EXPECTED_ATTENDING_DESTINATION \u001b[39m-\u001b[39m movement\n\u001b[1;32m    121\u001b[0m         \u001b[39melse\u001b[39;00m:\n\u001b[1;32m    122\u001b[0m             \u001b[39mreturn\u001b[39;00m \u001b[39mself\u001b[39m\u001b[39m.\u001b[39mmove_courier(courier\u001b[39m=\u001b[39mcourier, time\u001b[39m=\u001b[39mtime, movement\u001b[39m=\u001b[39m\u001b[39mfloat\u001b[39m(movement)\u001b[39m-\u001b[39mEXPECTED_ATTENDING_DESTINATION)\n\u001b[1;32m    123\u001b[0m         \u001b[39mreturn\u001b[39;00m \u001b[39m0\u001b[39m\n\u001b[1;32m    124\u001b[0m     \n\u001b[1;32m    125\u001b[0m     \u001b[39mcase\u001b[39;00m \u001b[39m\"\u001b[39m\u001b[39mto_cluster\u001b[39m\u001b[39m\"\u001b[39m:\n\u001b[1;32m    126\u001b[0m         cent \u001b[39m=\u001b[39m \u001b[39mself\u001b[39m\u001b[39m.\u001b[39mcentroids[courier\u001b[39m.\u001b[39mcluster_id]\n\u001b[1;32m    127\u001b[0m         dist \u001b[39m=\u001b[39m np\u001b[39m.\u001b[39mlinalg\u001b[39m.\u001b[39mnorm(courier\u001b[39m.\u001b[39mpos \u001b[39m-\u001b[39m cent)\n\u001b[1;32m    128\u001b[0m         courier\u001b[39m.\u001b[39morder \u001b[39m=\u001b[39m \u001b[39mNone\u001b[39;00m\n\u001b[1;32m    129\u001b[0m         \u001b[39mif\u001b[39;00m dist \u001b[39m>\u001b[39m movement:\n\u001b[1;32m    130\u001b[0m             courier\u001b[39m.\u001b[39mpos \u001b[39m+\u001b[39m\u001b[39m=\u001b[39m (cent \u001b[39m-\u001b[39m courier\u001b[39m.\u001b[39mpos) \u001b[39m*\u001b[39m (dist \u001b[39m-\u001b[39m movement)\u001b[39m/\u001b[39mdist\n\u001b[1;32m    131\u001b[0m         \u001b[39melse\u001b[39;00m:\n\u001b[1;32m    132\u001b[0m             courier\u001b[39m.\u001b[39mpos \u001b[39m=\u001b[39m cent\n\u001b[1;32m    133\u001b[0m             \u001b[39mself\u001b[39m\u001b[39m.\u001b[39mclusters[courier\u001b[39m.\u001b[39mcluster_id]\u001b[39m.\u001b[39mqueue_courier(courier)\n\u001b[1;32m    134\u001b[0m         \u001b[39mreturn\u001b[39;00m \u001b[39m0\u001b[39m\n",
      "File \u001b[0;32m~/Tesis/cluster-mdrp/src/map.py:107\u001b[0m, in \u001b[0;36mMap.move_courier\u001b[0;34m(self, courier, time, movement)\u001b[0m\n\u001b[1;32m     70\u001b[0m     courier\u001b[39m.\u001b[39mdebt_time \u001b[39m-\u001b[39m\u001b[39m=\u001b[39m movement\n\u001b[1;32m     71\u001b[0m     \u001b[39mreturn\u001b[39;00m \u001b[39m0\u001b[39m\n\u001b[1;32m     72\u001b[0m \u001b[39mmatch\u001b[39;00m courier\u001b[39m.\u001b[39mstate:\n\u001b[1;32m     73\u001b[0m     \u001b[39mcase\u001b[39;00m \u001b[39m\"\u001b[39m\u001b[39mto_restaurant\u001b[39m\u001b[39m\"\u001b[39m:\n\u001b[1;32m     74\u001b[0m         courier\u001b[39m.\u001b[39mcluster_id \u001b[39m=\u001b[39m \u001b[39m-\u001b[39m\u001b[39m1\u001b[39m\n\u001b[1;32m     75\u001b[0m         restaurant \u001b[39m=\u001b[39m \u001b[39mself\u001b[39m\u001b[39m.\u001b[39mrestaurants[courier\u001b[39m.\u001b[39morder\u001b[39m.\u001b[39mrestaurant_id]\n\u001b[1;32m     76\u001b[0m         dist \u001b[39m=\u001b[39m np\u001b[39m.\u001b[39mlinalg\u001b[39m.\u001b[39mnorm(courier\u001b[39m.\u001b[39mpos \u001b[39m-\u001b[39m restaurant\u001b[39m.\u001b[39mpos)\n\u001b[1;32m     77\u001b[0m \n\u001b[1;32m     78\u001b[0m         \u001b[39m# Si la distancia es mayor de lo que nos movemos nos quedamos a mitad de camino\u001b[39;00m\n\u001b[1;32m     79\u001b[0m         \u001b[39mif\u001b[39;00m dist \u001b[39m>\u001b[39m movement:\n\u001b[1;32m     80\u001b[0m             courier\u001b[39m.\u001b[39mpos \u001b[39m+\u001b[39m\u001b[39m=\u001b[39m (restaurant\u001b[39m.\u001b[39mpos \u001b[39m-\u001b[39m courier\u001b[39m.\u001b[39mpos) \u001b[39m*\u001b[39m (dist \u001b[39m-\u001b[39m movement)\u001b[39m/\u001b[39mdist\n\u001b[1;32m     81\u001b[0m \n\u001b[1;32m     82\u001b[0m         \u001b[39m# Si la distancia es menor y aún no llega la orden se espera\u001b[39;00m\n\u001b[1;32m     83\u001b[0m         \u001b[39melse\u001b[39;00m:\n\u001b[1;32m     84\u001b[0m             courier\u001b[39m.\u001b[39mpos \u001b[39m=\u001b[39m restaurant\u001b[39m.\u001b[39mpos\n\u001b[1;32m     85\u001b[0m             courier\u001b[39m.\u001b[39mstate \u001b[39m=\u001b[39m \u001b[39m\"\u001b[39m\u001b[39mto_wait_restaurant\u001b[39m\u001b[39m\"\u001b[39m\n\u001b[1;32m     86\u001b[0m \n\u001b[1;32m     87\u001b[0m             \u001b[39m# Si la distancia es menor y ya está la orden ir de inmediato al destino\u001b[39;00m\n\u001b[1;32m     88\u001b[0m             \u001b[39mif\u001b[39;00m courier\u001b[39m.\u001b[39morder\u001b[39m.\u001b[39mon_time_restaurant \u001b[39m<\u001b[39m\u001b[39m=\u001b[39m time:\n\u001b[1;32m     89\u001b[0m                 \u001b[39mprint\u001b[39m(movement, dist)\n\u001b[1;32m     90\u001b[0m                 \u001b[39mprint\u001b[39m(movement \u001b[39m-\u001b[39m dist)\n\u001b[1;32m     91\u001b[0m                 \u001b[39mreturn\u001b[39;00m \u001b[39mself\u001b[39m\u001b[39m.\u001b[39mmove_courier(courier, time, movement\u001b[39m=\u001b[39m\u001b[39mfloat\u001b[39m(movement)\u001b[39m-\u001b[39mdist)\n\u001b[1;32m     92\u001b[0m         \u001b[39mreturn\u001b[39;00m \u001b[39m0\u001b[39m\n\u001b[1;32m     93\u001b[0m \n\u001b[1;32m     94\u001b[0m     \u001b[39mcase\u001b[39;00m \u001b[39m\"\u001b[39m\u001b[39mto_wait_restaurant\u001b[39m\u001b[39m\"\u001b[39m:\n\u001b[1;32m     95\u001b[0m         \u001b[39mif\u001b[39;00m courier\u001b[39m.\u001b[39morder\u001b[39m.\u001b[39mon_time_restaurant \u001b[39m<\u001b[39m\u001b[39m=\u001b[39m time:\n\u001b[1;32m     96\u001b[0m             courier\u001b[39m.\u001b[39mstate \u001b[39m=\u001b[39m \u001b[39m\"\u001b[39m\u001b[39mto_destination\u001b[39m\u001b[39m\"\u001b[39m\n\u001b[1;32m     97\u001b[0m             courier\u001b[39m.\u001b[39mwith_order \u001b[39m=\u001b[39m \u001b[39mTrue\u001b[39;00m\n\u001b[1;32m     98\u001b[0m             \u001b[39mif\u001b[39;00m movement \u001b[39m<\u001b[39m\u001b[39m=\u001b[39m EXPECTED_ATTENDING_RESTAURANT:\n\u001b[1;32m     99\u001b[0m                 courier\u001b[39m.\u001b[39mdebt_time \u001b[39m=\u001b[39m EXPECTED_ATTENDING_RESTAURANT \u001b[39m-\u001b[39m movement\n\u001b[1;32m    100\u001b[0m             \u001b[39melse\u001b[39;00m:\n\u001b[1;32m    101\u001b[0m                 \u001b[39mreturn\u001b[39;00m \u001b[39mself\u001b[39m\u001b[39m.\u001b[39mmove_courier(courier\u001b[39m=\u001b[39mcourier, time\u001b[39m=\u001b[39mtime, movement\u001b[39m=\u001b[39m\u001b[39mfloat\u001b[39m(movement)\u001b[39m-\u001b[39mEXPECTED_ATTENDING_RESTAURANT)\n\u001b[1;32m    102\u001b[0m         \u001b[39mreturn\u001b[39;00m \u001b[39m0\u001b[39m\n\u001b[1;32m    103\u001b[0m \n\u001b[1;32m    104\u001b[0m     \u001b[39mcase\u001b[39;00m \u001b[39m\"\u001b[39m\u001b[39mto_destination\u001b[39m\u001b[39m\"\u001b[39m:\n\u001b[1;32m    105\u001b[0m         dist \u001b[39m=\u001b[39m np\u001b[39m.\u001b[39mlinalg\u001b[39m.\u001b[39mnorm(courier\u001b[39m.\u001b[39mpos \u001b[39m-\u001b[39m courier\u001b[39m.\u001b[39morder\u001b[39m.\u001b[39mdestination_pos)\n\u001b[1;32m    106\u001b[0m         \u001b[39mif\u001b[39;00m dist \u001b[39m>\u001b[39m movement:\n\u001b[0;32m--> 107\u001b[0m             courier\u001b[39m.\u001b[39mpos \u001b[39m+\u001b[39m\u001b[39m=\u001b[39m (courier\u001b[39m.\u001b[39morder\u001b[39m.\u001b[39mdestination_pos \u001b[39m-\u001b[39m courier\u001b[39m.\u001b[39mpos) \u001b[39m*\u001b[39m (dist \u001b[39m-\u001b[39m movement)\u001b[39m/\u001b[39mdist\n\u001b[1;32m    108\u001b[0m         \u001b[39melse\u001b[39;00m:\n\u001b[1;32m    109\u001b[0m             courier\u001b[39m.\u001b[39mpos \u001b[39m=\u001b[39m courier\u001b[39m.\u001b[39morder\u001b[39m.\u001b[39mdestination_pos\n\u001b[1;32m    110\u001b[0m             courier\u001b[39m.\u001b[39mstate \u001b[39m=\u001b[39m \u001b[39m\"\u001b[39m\u001b[39mto_wait_destination\u001b[39m\u001b[39m\"\u001b[39m\n\u001b[1;32m    111\u001b[0m             delay \u001b[39m=\u001b[39m \u001b[39m-\u001b[39mcalculateDelay(time, dist, courier\u001b[39m.\u001b[39morder\u001b[39m.\u001b[39mon_time_destination)\n\u001b[1;32m    112\u001b[0m             \u001b[39mreturn\u001b[39;00m \u001b[39mmin\u001b[39m(delay, \u001b[39m0\u001b[39m)\n\u001b[1;32m    113\u001b[0m         \u001b[39mreturn\u001b[39;00m \u001b[39m0\u001b[39m\n\u001b[1;32m    114\u001b[0m \n\u001b[1;32m    115\u001b[0m     \u001b[39mcase\u001b[39;00m \u001b[39m\"\u001b[39m\u001b[39mto_wait_destination\u001b[39m\u001b[39m\"\u001b[39m:\n\u001b[1;32m    116\u001b[0m         courier\u001b[39m.\u001b[39mstate \u001b[39m=\u001b[39m \u001b[39m\"\u001b[39m\u001b[39mto_cluster\u001b[39m\u001b[39m\"\u001b[39m\n\u001b[1;32m    117\u001b[0m         courier\u001b[39m.\u001b[39mwith_order \u001b[39m=\u001b[39m \u001b[39mFalse\u001b[39;00m\n\u001b[1;32m    118\u001b[0m         courier\u001b[39m.\u001b[39mcluster_id \u001b[39m=\u001b[39m \u001b[39mself\u001b[39m\u001b[39m.\u001b[39mclosest_cluster(courier\u001b[39m.\u001b[39mpos)\n\u001b[1;32m    119\u001b[0m         \u001b[39mif\u001b[39;00m movement \u001b[39m<\u001b[39m\u001b[39m=\u001b[39m EXPECTED_ATTENDING_DESTINATION:\n\u001b[1;32m    120\u001b[0m             courier\u001b[39m.\u001b[39mdebt_time \u001b[39m=\u001b[39m EXPECTED_ATTENDING_DESTINATION \u001b[39m-\u001b[39m movement\n\u001b[1;32m    121\u001b[0m         \u001b[39melse\u001b[39;00m:\n\u001b[1;32m    122\u001b[0m             \u001b[39mreturn\u001b[39;00m \u001b[39mself\u001b[39m\u001b[39m.\u001b[39mmove_courier(courier\u001b[39m=\u001b[39mcourier, time\u001b[39m=\u001b[39mtime, movement\u001b[39m=\u001b[39m\u001b[39mfloat\u001b[39m(movement)\u001b[39m-\u001b[39mEXPECTED_ATTENDING_DESTINATION)\n\u001b[1;32m    123\u001b[0m         \u001b[39mreturn\u001b[39;00m \u001b[39m0\u001b[39m\n\u001b[1;32m    124\u001b[0m     \n\u001b[1;32m    125\u001b[0m     \u001b[39mcase\u001b[39;00m \u001b[39m\"\u001b[39m\u001b[39mto_cluster\u001b[39m\u001b[39m\"\u001b[39m:\n\u001b[1;32m    126\u001b[0m         cent \u001b[39m=\u001b[39m \u001b[39mself\u001b[39m\u001b[39m.\u001b[39mcentroids[courier\u001b[39m.\u001b[39mcluster_id]\n\u001b[1;32m    127\u001b[0m         dist \u001b[39m=\u001b[39m np\u001b[39m.\u001b[39mlinalg\u001b[39m.\u001b[39mnorm(courier\u001b[39m.\u001b[39mpos \u001b[39m-\u001b[39m cent)\n\u001b[1;32m    128\u001b[0m         courier\u001b[39m.\u001b[39morder \u001b[39m=\u001b[39m \u001b[39mNone\u001b[39;00m\n\u001b[1;32m    129\u001b[0m         \u001b[39mif\u001b[39;00m dist \u001b[39m>\u001b[39m movement:\n\u001b[1;32m    130\u001b[0m             courier\u001b[39m.\u001b[39mpos \u001b[39m+\u001b[39m\u001b[39m=\u001b[39m (cent \u001b[39m-\u001b[39m courier\u001b[39m.\u001b[39mpos) \u001b[39m*\u001b[39m (dist \u001b[39m-\u001b[39m movement)\u001b[39m/\u001b[39mdist\n\u001b[1;32m    131\u001b[0m         \u001b[39melse\u001b[39;00m:\n\u001b[1;32m    132\u001b[0m             courier\u001b[39m.\u001b[39mpos \u001b[39m=\u001b[39m cent\n\u001b[1;32m    133\u001b[0m             \u001b[39mself\u001b[39m\u001b[39m.\u001b[39mclusters[courier\u001b[39m.\u001b[39mcluster_id]\u001b[39m.\u001b[39mqueue_courier(courier)\n\u001b[1;32m    134\u001b[0m         \u001b[39mreturn\u001b[39;00m \u001b[39m0\u001b[39m\n",
      "\u001b[0;31mUFuncTypeError\u001b[0m: Cannot cast ufunc 'add' output from dtype('float64') to dtype('int64') with casting rule 'same_kind'"
     ]
    }
   ],
   "source": [
    "map.move_courier(courier, time)"
   ]
  }
 ],
 "metadata": {
  "kernelspec": {
   "display_name": "tesis",
   "language": "python",
   "name": "python3"
  },
  "language_info": {
   "codemirror_mode": {
    "name": "ipython",
    "version": 3
   },
   "file_extension": ".py",
   "mimetype": "text/x-python",
   "name": "python",
   "nbconvert_exporter": "python",
   "pygments_lexer": "ipython3",
   "version": "3.11.3 (main, Apr 19 2023, 23:54:32) [GCC 11.2.0]"
  },
  "orig_nbformat": 4,
  "vscode": {
   "interpreter": {
    "hash": "5eb9f84fefceafe1a3c435496fbe13a2b44a56f2830201ddc530946f22d6bea4"
   }
  }
 },
 "nbformat": 4,
 "nbformat_minor": 2
}
