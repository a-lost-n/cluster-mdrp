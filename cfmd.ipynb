{
 "cells": [
  {
   "cell_type": "code",
   "execution_count": 1,
   "metadata": {},
   "outputs": [],
   "source": [
    "from src import *"
   ]
  },
  {
   "attachments": {},
   "cell_type": "markdown",
   "metadata": {},
   "source": [
    "# Caso 1: 10 Locales, 100x100 grid"
   ]
  },
  {
   "cell_type": "code",
   "execution_count": 2,
   "metadata": {},
   "outputs": [],
   "source": [
    "map = Map(restaurant_array=[2,6,2], grid_size=100)\n",
    "qtable = QTable(map)"
   ]
  },
  {
   "cell_type": "code",
   "execution_count": 3,
   "metadata": {},
   "outputs": [
    {
     "name": "stdout",
     "output_type": "stream",
     "text": [
      "EP: 0\n",
      "S: 0 A: 8 R: -100 NS: 0\n",
      "S: 0 A: 4 R: -75.92759709091287 NS: 0\n",
      "S: 0 A: 6 R: -100 NS: 0\n",
      "S: 0 A: 0 R: -60.37383539249432 NS: 0\n",
      "S: 0 A: 7 R: -100 NS: 0\n",
      "S: 0 A: 2 R: -60.37383539249432 NS: 0\n"
     ]
    },
    {
     "ename": "TypeError",
     "evalue": "Cluster.drop_expired_orders() missing 1 required positional argument: 'time'",
     "output_type": "error",
     "traceback": [
      "\u001b[0;31m---------------------------------------------------------------------------\u001b[0m",
      "\u001b[0;31mTypeError\u001b[0m                                 Traceback (most recent call last)",
      "Cell \u001b[0;32mIn[3], line 1\u001b[0m\n\u001b[0;32m----> 1\u001b[0m total_reward \u001b[39m=\u001b[39m qtable\u001b[39m.\u001b[39mtrain()\n",
      "File \u001b[0;32m~/Tesis/cluster-mdrp/src/qtable.py:65\u001b[0m, in \u001b[0;36mQTable.train\u001b[0;34m(self, episodes, alpha, gamma)\u001b[0m\n\u001b[1;32m     62\u001b[0m \u001b[39melse\u001b[39;00m:\n\u001b[1;32m     63\u001b[0m     action \u001b[39m=\u001b[39m discarded_empty[np\u001b[39m.\u001b[39margmax(non_empty_actions)]\n\u001b[0;32m---> 65\u001b[0m new_state, reward, finished \u001b[39m=\u001b[39m \u001b[39mself\u001b[39m\u001b[39m.\u001b[39mstep(action)\n\u001b[1;32m     66\u001b[0m total_reward \u001b[39m+\u001b[39m\u001b[39m=\u001b[39m reward\n\u001b[1;32m     68\u001b[0m \u001b[39mprint\u001b[39m(\u001b[39m\"\u001b[39m\u001b[39mS:\u001b[39m\u001b[39m\"\u001b[39m,state,\u001b[39m\"\u001b[39m\u001b[39mA:\u001b[39m\u001b[39m\"\u001b[39m, action,\u001b[39m\"\u001b[39m\u001b[39mR:\u001b[39m\u001b[39m\"\u001b[39m, reward, \u001b[39m\"\u001b[39m\u001b[39mNS:\u001b[39m\u001b[39m\"\u001b[39m, new_state)\n",
      "File \u001b[0;32m~/Tesis/cluster-mdrp/src/qtable.py:34\u001b[0m, in \u001b[0;36mQTable.step\u001b[0;34m(self, action)\u001b[0m\n\u001b[1;32m     31\u001b[0m     reward \u001b[39m=\u001b[39m \u001b[39mself\u001b[39m\u001b[39m.\u001b[39mmap\u001b[39m.\u001b[39minvoke_courier(cluster_id)\n\u001b[1;32m     33\u001b[0m \u001b[39melse\u001b[39;00m:\n\u001b[0;32m---> 34\u001b[0m     reward, done \u001b[39m=\u001b[39m \u001b[39mself\u001b[39m\u001b[39m.\u001b[39mmap\u001b[39m.\u001b[39mpass_time()\n\u001b[1;32m     35\u001b[0m     \u001b[39m# print(reward)\u001b[39;00m\n\u001b[1;32m     36\u001b[0m     \u001b[39mself\u001b[39m\u001b[39m.\u001b[39mmap\u001b[39m.\u001b[39mproduce()\n",
      "File \u001b[0;32m~/Tesis/cluster-mdrp/src/map.py:204\u001b[0m, in \u001b[0;36mMap.pass_time\u001b[0;34m(self)\u001b[0m\n\u001b[1;32m    202\u001b[0m reward \u001b[39m=\u001b[39m \u001b[39m0\u001b[39m\n\u001b[1;32m    203\u001b[0m \u001b[39mfor\u001b[39;00m cluster \u001b[39min\u001b[39;00m \u001b[39mself\u001b[39m\u001b[39m.\u001b[39mclusters:\n\u001b[0;32m--> 204\u001b[0m     reward \u001b[39m+\u001b[39m\u001b[39m=\u001b[39m cluster\u001b[39m.\u001b[39mdrop_expired_orders()\n\u001b[1;32m    205\u001b[0m     cluster\u001b[39m.\u001b[39massign_all_orders()\n\u001b[1;32m    206\u001b[0m \u001b[39mfor\u001b[39;00m courier \u001b[39min\u001b[39;00m \u001b[39mself\u001b[39m\u001b[39m.\u001b[39mcouriers:\n",
      "\u001b[0;31mTypeError\u001b[0m: Cluster.drop_expired_orders() missing 1 required positional argument: 'time'"
     ]
    }
   ],
   "source": [
    "total_reward = qtable.train()"
   ]
  },
  {
   "cell_type": "code",
   "execution_count": null,
   "metadata": {},
   "outputs": [],
   "source": [
    "# qtable.print_qtable()"
   ]
  }
 ],
 "metadata": {
  "kernelspec": {
   "display_name": "tesis",
   "language": "python",
   "name": "python3"
  },
  "language_info": {
   "codemirror_mode": {
    "name": "ipython",
    "version": 3
   },
   "file_extension": ".py",
   "mimetype": "text/x-python",
   "name": "python",
   "nbconvert_exporter": "python",
   "pygments_lexer": "ipython3",
   "version": "3.11.3"
  },
  "orig_nbformat": 4,
  "vscode": {
   "interpreter": {
    "hash": "5eb9f84fefceafe1a3c435496fbe13a2b44a56f2830201ddc530946f22d6bea4"
   }
  }
 },
 "nbformat": 4,
 "nbformat_minor": 2
}
