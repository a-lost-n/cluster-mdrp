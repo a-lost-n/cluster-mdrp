{
 "cells": [
  {
   "cell_type": "code",
   "execution_count": 1,
   "metadata": {},
   "outputs": [
    {
     "name": "stderr",
     "output_type": "stream",
     "text": [
      "2023-09-12 13:31:52.478225: I tensorflow/core/platform/cpu_feature_guard.cc:182] This TensorFlow binary is optimized to use available CPU instructions in performance-critical operations.\n",
      "To enable the following instructions: SSE4.1 SSE4.2 AVX AVX2 FMA, in other operations, rebuild TensorFlow with the appropriate compiler flags.\n"
     ]
    }
   ],
   "source": [
    "from src import *"
   ]
  },
  {
   "cell_type": "code",
   "execution_count": 2,
   "metadata": {},
   "outputs": [
    {
     "name": "stderr",
     "output_type": "stream",
     "text": [
      "2023-09-12 13:31:54.960701: I tensorflow/core/common_runtime/process_util.cc:146] Creating new thread pool with default inter op setting: 12. Tune using inter_op_parallelism_threads for best performance.\n"
     ]
    }
   ],
   "source": [
    "agent = Agent(restaurant_array=[2,6,2], learning_rate=1e-4, grid_size=100, randseed=25)\n",
    "# agent = Agent(restaurant_array=[2,6,2], grid_size=100, randseed=25, filename=\"models/model_n3_200\")"
   ]
  },
  {
   "cell_type": "code",
   "execution_count": 24,
   "metadata": {
    "slideshow": {
     "slide_type": "subslide"
    }
   },
   "outputs": [
    {
     "name": "stdout",
     "output_type": "stream",
     "text": [
      "episode: 701/720, score: 173.03, e: 0.25, actions: 263, couriers: 56, t: 10.49s\n",
      "episode: 702/720, score: 63.98, e: 0.25, actions: 155, couriers: 52, t: 7.87s\n",
      "episode: 703/720, score: 190.75, e: 0.25, actions: 196, couriers: 19, t: 10.76s\n",
      "episode: 704/720, score: 190.50, e: 0.24, actions: 189, couriers: 17, t: 10.14s\n",
      "episode: 705/720, score: 190.58, e: 0.24, actions: 190, couriers: 17, t: 10.23s\n",
      "episode: 706/720, score: 190.18, e: 0.24, actions: 196, couriers: 14, t: 10.67s\n",
      "episode: 707/720, score: 190.84, e: 0.24, actions: 196, couriers: 18, t: 9.79s\n",
      "episode: 708/720, score: 190.86, e: 0.24, actions: 200, couriers: 20, t: 10.66s\n",
      "episode: 709/720, score: 190.36, e: 0.24, actions: 192, couriers: 10, t: 10.67s\n",
      "episode: 710/720, score: 190.04, e: 0.24, actions: 209, couriers: 23, t: 10.94s\n",
      "episode: 711/720, score: 191.08, e: 0.24, actions: 215, couriers: 27, t: 10.72s\n",
      "episode: 712/720, score: 191.06, e: 0.24, actions: 218, couriers: 29, t: 10.46s\n",
      "episode: 713/720, score: 167.21, e: 0.24, actions: 233, couriers: 57, t: 11.29s\n",
      "episode: 714/720, score: 191.10, e: 0.24, actions: 186, couriers: 10, t: 10.94s\n",
      "episode: 715/720, score: 190.15, e: 0.24, actions: 202, couriers: 18, t: 10.62s\n",
      "episode: 716/720, score: 190.06, e: 0.24, actions: 198, couriers: 17, t: 10.27s\n",
      "episode: 717/720, score: 190.81, e: 0.24, actions: 195, couriers: 18, t: 10.81s\n",
      "episode: 718/720, score: 190.14, e: 0.24, actions: 191, couriers: 12, t: 10.50s\n",
      "episode: 719/720, score: 190.80, e: 0.24, actions: 197, couriers: 19, t: 10.55s\n",
      "episode: 720/720, score: 190.16, e: 0.24, actions: 200, couriers: 17, t: 10.12s\n"
     ]
    }
   ],
   "source": [
    "episodios=20\n",
    "episodios_terminados=700\n",
    "decay=0.998\n",
    "\n",
    "agent.train(episodes=episodios, finished_episodes=episodios_terminados, batch_size=16, epsilon=1,\n",
    "             epsilon_decay=decay, score_limit=190, log_limit=192, refresh_rate=2, verbose=False, display_rewards=False)\n",
    "\n",
    "agent.save(\"models/model_n3_\"+str(episodios_terminados+episodios))"
   ]
  },
  {
   "cell_type": "code",
   "execution_count": 28,
   "metadata": {},
   "outputs": [
    {
     "data": {
      "image/png": "[encoded data removed]",
      "text/plain": [
       "<Figure size 640x480 with 1 Axes>"
      ]
     },
     "metadata": {},
     "output_type": "display_data"
    }
   ],
   "source": [
    "agent.rewards_graphic(n=60,mean=120, ylim=191)"
   ]
  },
  {
   "cell_type": "code",
   "execution_count": 26,
   "metadata": {},
   "outputs": [
    {
     "name": "stdout",
     "output_type": "stream",
     "text": [
      "|      | Invo |  C1  |  C2  |  C3  |\n",
      "|  C1  |1.9303|  --  |1.9487|2.1452|\n",
      "|  C2  |1.9792|2.1598|  --  |2.0669|\n",
      "|  C3  |2.0588|2.1333|2.1453|  --  |\n"
     ]
    }
   ],
   "source": [
    "agent.print_prediction([[0,0,0,0,0,0,0,1,0]])\n",
    "# print(agent.model.predict([[0,1,0,100000,0,0,0,2,0]], verbose=0))\n",
    "# agent.model.get_weights()[-1]"
   ]
  },
  {
   "cell_type": "code",
   "execution_count": 6,
   "metadata": {},
   "outputs": [],
   "source": [
    "test_agent = Agent(restaurant_array=[2,6,2], grid_size=100, randseed=25)\n",
    "test_agent.train(1000,epsilon_decay=1.0,train_model=False,log=False)"
   ]
  },
  {
   "cell_type": "code",
   "execution_count": 9,
   "metadata": {},
   "outputs": [
    {
     "data": {
      "text/plain": [
       "-119.14946284720054"
      ]
     },
     "execution_count": 9,
     "metadata": {},
     "output_type": "execute_result"
    }
   ],
   "source": [
    "np.median(np.array(test_agent.reward_history))"
   ]
  },
  {
   "cell_type": "code",
   "execution_count": 8,
   "metadata": {},
   "outputs": [
    {
     "data": {
      "text/plain": [
       "(array([  3.,  12.,  31.,  93., 201., 289., 228., 119.,  23.,   1.]),\n",
       " array([-206.42575921, -190.70963908, -174.99351895, -159.27739882,\n",
       "        -143.56127869, -127.84515856, -112.12903843,  -96.41291829,\n",
       "         -80.69679816,  -64.98067803,  -49.2645579 ]),\n",
       " <BarContainer object of 10 artists>)"
      ]
     },
     "execution_count": 8,
     "metadata": {},
     "output_type": "execute_result"
    },
    {
     "data": {
      "image/png": "[encoded data removed]",
      "text/plain": [
       "<Figure size 640x480 with 1 Axes>"
      ]
     },
     "metadata": {},
     "output_type": "display_data"
    }
   ],
   "source": [
    "plt.hist(test_agent.reward_history)"
   ]
  },
  {
   "cell_type": "code",
   "execution_count": null,
   "metadata": {},
   "outputs": [],
   "source": [
    "agent.reset()\n",
    "get_memory_usage()"
   ]
  },
  {
   "cell_type": "code",
   "execution_count": null,
   "metadata": {},
   "outputs": [],
   "source": [
    "agent.map.display_map_clusters()"
   ]
  },
  {
   "cell_type": "code",
   "execution_count": null,
   "metadata": {},
   "outputs": [],
   "source": [
    "episodios_terminados = 0\n",
    "rewards = agent.train(episodes=1, batch_size=16, epsilon=0.99**episodios_terminados, epsilon_decay=0.99)"
   ]
  },
  {
   "cell_type": "code",
   "execution_count": 16,
   "metadata": {},
   "outputs": [
    {
     "name": "stdout",
     "output_type": "stream",
     "text": [
      "[STATE]:  [[0], [0], [0], [0], [1], [0], [0], [0], [0]]\n",
      "[ACTION]: C_0++, R:-1\n",
      "[STATE]:  [[1], [0], [0], [0], [1], [0], [0], [0], [0]]\n",
      "[ACTION]: C_0 -> C_1, R: 0.0525594901040716\n",
      "score: -0.95\n"
     ]
    }
   ],
   "source": [
    "agent.test_state([0,0,0,0,1,0,0,0,0])"
   ]
  },
  {
   "cell_type": "code",
   "execution_count": null,
   "metadata": {},
   "outputs": [],
   "source": [
    "plt.plot(rewards)"
   ]
  },
  {
   "cell_type": "code",
   "execution_count": null,
   "metadata": {},
   "outputs": [],
   "source": [
    "agent.save(\"model\")"
   ]
  },
  {
   "cell_type": "code",
   "execution_count": null,
   "metadata": {},
   "outputs": [],
   "source": [
    "agent.model.get_weights()[-1]"
   ]
  }
 ],
 "metadata": {
  "kernelspec": {
   "display_name": "tesis",
   "language": "python",
   "name": "python3"
  },
  "language_info": {
   "codemirror_mode": {
    "name": "ipython",
    "version": 3
   },
   "file_extension": ".py",
   "mimetype": "text/x-python",
   "name": "python",
   "nbconvert_exporter": "python",
   "pygments_lexer": "ipython3",
   "version": "3.11.3 (main, Apr 19 2023, 23:54:32) [GCC 11.2.0]"
  },
  "orig_nbformat": 4,
  "vscode": {
   "interpreter": {
    "hash": "5eb9f84fefceafe1a3c435496fbe13a2b44a56f2830201ddc530946f22d6bea4"
   }
  }
 },
 "nbformat": 4,
 "nbformat_minor": 2
}
