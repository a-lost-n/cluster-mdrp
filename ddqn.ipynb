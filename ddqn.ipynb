{
 "cells": [
  {
   "cell_type": "code",
   "execution_count": 1,
   "metadata": {},
   "outputs": [
    {
     "name": "stderr",
     "output_type": "stream",
     "text": [
      "2023-06-29 17:38:00.579792: I tensorflow/core/platform/cpu_feature_guard.cc:182] This TensorFlow binary is optimized to use available CPU instructions in performance-critical operations.\n",
      "To enable the following instructions: SSE4.1 SSE4.2 AVX AVX2 FMA, in other operations, rebuild TensorFlow with the appropriate compiler flags.\n"
     ]
    }
   ],
   "source": [
    "from src import *"
   ]
  },
  {
   "cell_type": "code",
   "execution_count": 2,
   "metadata": {},
   "outputs": [],
   "source": [
    "map = Map(restaurant_array=[2,6,2], grid_size=100, randseed=22)\n",
    "agent = DDQNAgent(map)"
   ]
  },
  {
   "cell_type": "code",
   "execution_count": 3,
   "metadata": {},
   "outputs": [
    {
     "name": "stdout",
     "output_type": "stream",
     "text": [
      "episode: 0/100, score: -323654.07, e: 1.00, mems: 1449, uses: 85, act/use: 17.05\n",
      "episode: 1/100, score: -262932.63, e: 0.98, mems: 1233, uses: 70, act/use: 17.61\n",
      "episode: 2/100, score: -321233.22, e: 0.97, mems: 1485, uses: 83, act/use: 17.89\n",
      "episode: 3/100, score: -272444.29, e: 0.96, mems: 1248, uses: 83, act/use: 15.04\n",
      "episode: 4/100, score: -282748.46, e: 0.94, mems: 1321, uses: 88, act/use: 15.01\n",
      "episode: 5/100, score: -266541.76, e: 0.93, mems: 1212, uses: 74, act/use: 16.38\n",
      "episode: 6/100, score: -359515.45, e: 0.91, mems: 1615, uses: 80, act/use: 20.19\n",
      "episode: 7/100, score: -508899.83, e: 0.90, mems: 2202, uses: 96, act/use: 22.94\n",
      "episode: 8/100, score: -463416.52, e: 0.89, mems: 2027, uses: 88, act/use: 23.03\n",
      "episode: 9/100, score: -444219.97, e: 0.87, mems: 1941, uses: 90, act/use: 21.57\n",
      "episode: 10/100, score: -626949.22, e: 0.86, mems: 2698, uses: 93, act/use: 29.01\n",
      "episode: 11/100, score: -579611.15, e: 0.85, mems: 2496, uses: 98, act/use: 25.47\n",
      "episode: 12/100, score: -573624.24, e: 0.83, mems: 2450, uses: 94, act/use: 26.06\n",
      "episode: 13/100, score: -402141.56, e: 0.82, mems: 1718, uses: 76, act/use: 22.61\n",
      "episode: 14/100, score: -454970.57, e: 0.81, mems: 1923, uses: 84, act/use: 22.89\n",
      "episode: 15/100, score: -427039.19, e: 0.80, mems: 1819, uses: 90, act/use: 20.21\n",
      "episode: 16/100, score: -614300.94, e: 0.79, mems: 2536, uses: 91, act/use: 27.87\n",
      "episode: 17/100, score: -511949.32, e: 0.77, mems: 2179, uses: 80, act/use: 27.24\n",
      "episode: 18/100, score: -626018.39, e: 0.76, mems: 2623, uses: 84, act/use: 31.23\n",
      "episode: 19/100, score: -554704.11, e: 0.75, mems: 2320, uses: 74, act/use: 31.35\n",
      "episode: 20/100, score: -642253.88, e: 0.74, mems: 2651, uses: 88, act/use: 30.12\n",
      "episode: 21/100, score: -723957.82, e: 0.73, mems: 3020, uses: 90, act/use: 33.56\n",
      "episode: 22/100, score: -692513.54, e: 0.72, mems: 2851, uses: 86, act/use: 33.15\n",
      "episode: 23/100, score: -648225.83, e: 0.71, mems: 2686, uses: 81, act/use: 33.16\n"
     ]
    },
    {
     "ename": "KeyboardInterrupt",
     "evalue": "",
     "output_type": "error",
     "traceback": [
      "\u001b[0;31m---------------------------------------------------------------------------\u001b[0m",
      "\u001b[0;31mKeyboardInterrupt\u001b[0m                         Traceback (most recent call last)",
      "Cell \u001b[0;32mIn[3], line 1\u001b[0m\n\u001b[0;32m----> 1\u001b[0m rewards \u001b[39m=\u001b[39m agent\u001b[39m.\u001b[39mtrain(\u001b[39m100\u001b[39m)\n",
      "File \u001b[0;32m~/Tesis/cluster-mdrp/src/ddqn.py:102\u001b[0m, in \u001b[0;36mDDQNAgent.train\u001b[0;34m(self, episodes)\u001b[0m\n\u001b[1;32m    100\u001b[0m uses \u001b[39m+\u001b[39m\u001b[39m=\u001b[39m \u001b[39m1\u001b[39m \u001b[39mif\u001b[39;00m \u001b[39mnot\u001b[39;00m done \u001b[39melse\u001b[39;00m \u001b[39m0\u001b[39m\n\u001b[1;32m    101\u001b[0m \u001b[39mwhile\u001b[39;00m \u001b[39mnot\u001b[39;00m done:\n\u001b[0;32m--> 102\u001b[0m     action \u001b[39m=\u001b[39m \u001b[39mself\u001b[39m\u001b[39m.\u001b[39mact(state)\n\u001b[1;32m    103\u001b[0m     next_state, reward, done \u001b[39m=\u001b[39m \u001b[39mself\u001b[39m\u001b[39m.\u001b[39mstep(action)\n\u001b[1;32m    104\u001b[0m     next_state \u001b[39m=\u001b[39m np\u001b[39m.\u001b[39mreshape(next_state, [\u001b[39m1\u001b[39m, \u001b[39mself\u001b[39m\u001b[39m.\u001b[39mstate_size])\n",
      "File \u001b[0;32m~/Tesis/cluster-mdrp/src/ddqn.py:41\u001b[0m, in \u001b[0;36mDDQNAgent.act\u001b[0;34m(self, state)\u001b[0m\n\u001b[1;32m     39\u001b[0m \u001b[39mif\u001b[39;00m np\u001b[39m.\u001b[39mrandom\u001b[39m.\u001b[39mrand() \u001b[39m<\u001b[39m\u001b[39m=\u001b[39m \u001b[39mself\u001b[39m\u001b[39m.\u001b[39mepsilon:\n\u001b[1;32m     40\u001b[0m     \u001b[39mreturn\u001b[39;00m random\u001b[39m.\u001b[39mrandrange(\u001b[39mself\u001b[39m\u001b[39m.\u001b[39maction_size)\n\u001b[0;32m---> 41\u001b[0m act_values \u001b[39m=\u001b[39m \u001b[39mself\u001b[39m\u001b[39m.\u001b[39mmodel\u001b[39m.\u001b[39mpredict(state, verbose\u001b[39m=\u001b[39m\u001b[39m0\u001b[39m)\n\u001b[1;32m     42\u001b[0m \u001b[39mreturn\u001b[39;00m np\u001b[39m.\u001b[39margmax(act_values[\u001b[39m0\u001b[39m])\n",
      "File \u001b[0;32m~/anaconda3/envs/tesis/lib/python3.11/site-packages/keras/utils/traceback_utils.py:65\u001b[0m, in \u001b[0;36mfilter_traceback.<locals>.error_handler\u001b[0;34m(*args, **kwargs)\u001b[0m\n\u001b[1;32m     63\u001b[0m filtered_tb \u001b[39m=\u001b[39m \u001b[39mNone\u001b[39;00m\n\u001b[1;32m     64\u001b[0m \u001b[39mtry\u001b[39;00m:\n\u001b[0;32m---> 65\u001b[0m     \u001b[39mreturn\u001b[39;00m fn(\u001b[39m*\u001b[39margs, \u001b[39m*\u001b[39m\u001b[39m*\u001b[39mkwargs)\n\u001b[1;32m     66\u001b[0m \u001b[39mexcept\u001b[39;00m \u001b[39mException\u001b[39;00m \u001b[39mas\u001b[39;00m e:\n\u001b[1;32m     67\u001b[0m     filtered_tb \u001b[39m=\u001b[39m _process_traceback_frames(e\u001b[39m.\u001b[39m__traceback__)\n",
      "\u001b[0;31mKeyboardInterrupt\u001b[0m: "
     ]
    }
   ],
   "source": [
    "rewards = agent.train(100)"
   ]
  },
  {
   "cell_type": "code",
   "execution_count": null,
   "metadata": {},
   "outputs": [],
   "source": [
    "agent.save(\"model_22.h5\")"
   ]
  }
 ],
 "metadata": {
  "kernelspec": {
   "display_name": "tesis",
   "language": "python",
   "name": "python3"
  },
  "language_info": {
   "codemirror_mode": {
    "name": "ipython",
    "version": 3
   },
   "file_extension": ".py",
   "mimetype": "text/x-python",
   "name": "python",
   "nbconvert_exporter": "python",
   "pygments_lexer": "ipython3",
   "version": "3.11.3"
  },
  "orig_nbformat": 4,
  "vscode": {
   "interpreter": {
    "hash": "5eb9f84fefceafe1a3c435496fbe13a2b44a56f2830201ddc530946f22d6bea4"
   }
  }
 },
 "nbformat": 4,
 "nbformat_minor": 2
}
