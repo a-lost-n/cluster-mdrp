{
 "cells": [
  {
   "cell_type": "code",
   "execution_count": 1,
   "metadata": {},
   "outputs": [
    {
     "name": "stderr",
     "output_type": "stream",
     "text": [
      "2023-07-06 11:51:36.155491: I tensorflow/core/platform/cpu_feature_guard.cc:182] This TensorFlow binary is optimized to use available CPU instructions in performance-critical operations.\n",
      "To enable the following instructions: SSE4.1 SSE4.2 AVX AVX2 FMA, in other operations, rebuild TensorFlow with the appropriate compiler flags.\n"
     ]
    }
   ],
   "source": [
    "from src import *"
   ]
  },
  {
   "cell_type": "code",
   "execution_count": 2,
   "metadata": {},
   "outputs": [
    {
     "name": "stderr",
     "output_type": "stream",
     "text": [
      "2023-07-06 11:51:40.116887: I tensorflow/core/common_runtime/process_util.cc:146] Creating new thread pool with default inter op setting: 12. Tune using inter_op_parallelism_threads for best performance.\n"
     ]
    }
   ],
   "source": [
    "# agent = DDQNAgent(restaurant_array=[2,6,2], grid_size=100, randseed=25)\n",
    "agent = Agent(restaurant_array=[2,6,2], grid_size=100, randseed=25)"
   ]
  },
  {
   "cell_type": "code",
   "execution_count": null,
   "metadata": {},
   "outputs": [],
   "source": [
    "agent.map.display_map_clusters()"
   ]
  },
  {
   "cell_type": "code",
   "execution_count": null,
   "metadata": {},
   "outputs": [],
   "source": [
    "import time\n",
    "start_time = time.time()\n",
    "agent.replay(16)\n",
    "print(time.time()-start_time)"
   ]
  },
  {
   "cell_type": "code",
   "execution_count": null,
   "metadata": {},
   "outputs": [],
   "source": [
    "# agent.train_by_timestamp(episodes=200, batch_size=16, epsilon=1, epsilon_decay=0.995)"
   ]
  },
  {
   "cell_type": "code",
   "execution_count": 3,
   "metadata": {},
   "outputs": [
    {
     "name": "stdout",
     "output_type": "stream",
     "text": [
      "[[0], [0], [0], [0], [0], [0]] 4.458427429199219e-05\n",
      "[[7], [7], [8], [7], [14], [14]] 45.92877697944641\n",
      "[[9], [7], [1], [3], [27], [26]] 92.50919151306152\n",
      "[[15], [13], [3], [0], [27], [27]] 139.6873161792755\n",
      "[[19], [20], [3], [0], [29], [27]] 186.82753252983093\n",
      "[[29], [28], [4], [3], [30], [29]] 233.96773505210876\n",
      "episode: 1/2, score: -60.65, e: 1.00, actions: 221, t: 255.97s\n",
      "[[0], [0], [0], [0], [0], [0]] 2.3727729320526123\n",
      "[[0], [5], [18], [18], [1], [0]] 50.17526173591614\n",
      "[[9], [10], [16], [15], [9], [7]] 96.47589111328125\n",
      "[[14], [13], [12], [9], [10], [10]] 143.59091520309448\n",
      "[[20], [18], [10], [9], [6], [6]] 191.14126253128052\n",
      "[[25], [25], [8], [7], [4], [5]] 238.91695094108582\n",
      "episode: 2/2, score: -47.91, e: 0.99, actions: 136, t: 261.59s\n"
     ]
    }
   ],
   "source": [
    "episodios_terminados = 0\n",
    "rewards = agent.train(episodes=2, batch_size=16, epsilon=0.99**episodios_terminados, epsilon_decay=0.99)"
   ]
  },
  {
   "cell_type": "code",
   "execution_count": null,
   "metadata": {},
   "outputs": [],
   "source": [
    "rewards"
   ]
  },
  {
   "cell_type": "code",
   "execution_count": null,
   "metadata": {},
   "outputs": [],
   "source": [
    "plt.plot(rewards)"
   ]
  },
  {
   "cell_type": "code",
   "execution_count": null,
   "metadata": {},
   "outputs": [],
   "source": [
    "# agent.train(episodes=5, batch_size=16, epsilon=0.97, epsilon_decay=0.995)"
   ]
  },
  {
   "cell_type": "code",
   "execution_count": null,
   "metadata": {},
   "outputs": [],
   "source": [
    "agent.test_state([0,1,0,0,1,0,0,3,0])"
   ]
  },
  {
   "cell_type": "code",
   "execution_count": 12,
   "metadata": {},
   "outputs": [
    {
     "name": "stdout",
     "output_type": "stream",
     "text": [
      "[[ 0.00342846 -1.3247904   0.56401116  1.2008369  -0.5247868  -0.1359292\n",
      "   0.2721539  -0.05916953 -1.0443611 ]]\n"
     ]
    }
   ],
   "source": [
    "print(agent.model.predict([[0,-1,0,-1,0,-3]], verbose=0))\n",
    "# print(agent.model.predict([[0,1,0,0,1,0,1,3,0]], verbose=0))"
   ]
  },
  {
   "cell_type": "code",
   "execution_count": null,
   "metadata": {},
   "outputs": [],
   "source": [
    "agent.save(\"model\")"
   ]
  },
  {
   "cell_type": "code",
   "execution_count": null,
   "metadata": {},
   "outputs": [],
   "source": [
    "agent.test()"
   ]
  }
 ],
 "metadata": {
  "kernelspec": {
   "display_name": "tesis",
   "language": "python",
   "name": "python3"
  },
  "language_info": {
   "codemirror_mode": {
    "name": "ipython",
    "version": 3
   },
   "file_extension": ".py",
   "mimetype": "text/x-python",
   "name": "python",
   "nbconvert_exporter": "python",
   "pygments_lexer": "ipython3",
   "version": "3.11.3"
  },
  "orig_nbformat": 4,
  "vscode": {
   "interpreter": {
    "hash": "5eb9f84fefceafe1a3c435496fbe13a2b44a56f2830201ddc530946f22d6bea4"
   }
  }
 },
 "nbformat": 4,
 "nbformat_minor": 2
}
