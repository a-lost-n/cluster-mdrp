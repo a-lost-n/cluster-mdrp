{
 "cells": [
  {
   "cell_type": "code",
   "execution_count": 1,
   "metadata": {},
   "outputs": [
    {
     "name": "stderr",
     "output_type": "stream",
     "text": [
      "2023-07-08 18:00:02.510200: I tensorflow/core/platform/cpu_feature_guard.cc:182] This TensorFlow binary is optimized to use available CPU instructions in performance-critical operations.\n",
      "To enable the following instructions: SSE4.1 SSE4.2 AVX AVX2 FMA, in other operations, rebuild TensorFlow with the appropriate compiler flags.\n",
      "2023-07-08 18:00:04.666892: I tensorflow/core/common_runtime/process_util.cc:146] Creating new thread pool with default inter op setting: 12. Tune using inter_op_parallelism_threads for best performance.\n"
     ]
    }
   ],
   "source": [
    "from src import *\n",
    "\n",
    "agent = Agent(restaurant_array=[2,6,2], grid_size=100, randseed=25)"
   ]
  },
  {
   "cell_type": "code",
   "execution_count": null,
   "metadata": {},
   "outputs": [],
   "source": [
    "agent.train_by_timestamp(episodes=100, batch_size=16, epsilon=1.0, epsilon_decay=1.0)"
   ]
  },
  {
   "cell_type": "code",
   "execution_count": 2,
   "metadata": {},
   "outputs": [
    {
     "name": "stdout",
     "output_type": "stream",
     "text": [
      "[[0], [0], [0], [0], [0], [0], [0], [0], [0]], t: 0.000s\n",
      "[[10], [5], [1], [4], [1], [1], [5], [6], [1]], t: 43.619s\n",
      "[[26], [2], [0], [6], [1], [1], [5], [2], [0]], t: 91.156s\n",
      "[[30], [0], [0], [7], [5], [0], [6], [3], [0]], t: 138.639s\n",
      "[[41], [1], [0], [6], [1], [0], [12], [5], [0]], t: 186.316s\n",
      "[[45], [1], [1], [2], [0], [0], [15], [0], [0]], t: 233.939s\n",
      "episode: 1/1, score: 185935.70, e: 1.00, actions: 186, t: 256.57s\n"
     ]
    }
   ],
   "source": [
    "episodios_terminados = 0\n",
    "rewards = agent.train(episodes=1, batch_size=16, epsilon=0.99**episodios_terminados, epsilon_decay=0.99)"
   ]
  },
  {
   "cell_type": "code",
   "execution_count": 3,
   "metadata": {},
   "outputs": [
    {
     "name": "stdout",
     "output_type": "stream",
     "text": [
      "[[1154.3046 1648.416  1197.6432 1499.6481 1131.1312 1759.6058 1640.7295\n",
      "  1593.1948 1956.6075]]\n",
      "[[1692.5323 2416.3442 1755.179  2198.3374 1657.6056 2579.7476 2404.9766\n",
      "  2335.8823 2868.5598]]\n"
     ]
    }
   ],
   "source": [
    "print(agent.model.predict([[0,3,0,1,0,0,0,2,0]], verbose=0))\n",
    "print(agent.target_model.predict([[2,3,0,1,0,0,2,2,0]], verbose=0))"
   ]
  },
  {
   "cell_type": "code",
   "execution_count": null,
   "metadata": {},
   "outputs": [],
   "source": [
    "agent.test_state([0,3,0,0,0,0,0,2,0])"
   ]
  },
  {
   "cell_type": "code",
   "execution_count": null,
   "metadata": {},
   "outputs": [],
   "source": [
    "plt.plot(rewards)"
   ]
  },
  {
   "cell_type": "code",
   "execution_count": null,
   "metadata": {},
   "outputs": [],
   "source": [
    "agent.save(\"model\")"
   ]
  },
  {
   "cell_type": "code",
   "execution_count": null,
   "metadata": {},
   "outputs": [],
   "source": [
    "agent.test()"
   ]
  }
 ],
 "metadata": {
  "kernelspec": {
   "display_name": "tesis",
   "language": "python",
   "name": "python3"
  },
  "language_info": {
   "codemirror_mode": {
    "name": "ipython",
    "version": 3
   },
   "file_extension": ".py",
   "mimetype": "text/x-python",
   "name": "python",
   "nbconvert_exporter": "python",
   "pygments_lexer": "ipython3",
   "version": "3.11.3"
  },
  "orig_nbformat": 4,
  "vscode": {
   "interpreter": {
    "hash": "5eb9f84fefceafe1a3c435496fbe13a2b44a56f2830201ddc530946f22d6bea4"
   }
  }
 },
 "nbformat": 4,
 "nbformat_minor": 2
}
