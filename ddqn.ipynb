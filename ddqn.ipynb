{
 "cells": [
  {
   "cell_type": "code",
   "execution_count": 1,
   "metadata": {},
   "outputs": [
    {
     "name": "stderr",
     "output_type": "stream",
     "text": [
      "2023-07-08 18:32:30.909097: I tensorflow/core/platform/cpu_feature_guard.cc:182] This TensorFlow binary is optimized to use available CPU instructions in performance-critical operations.\n",
      "To enable the following instructions: SSE4.1 SSE4.2 AVX AVX2 FMA, in other operations, rebuild TensorFlow with the appropriate compiler flags.\n",
      "2023-07-08 18:32:33.087701: I tensorflow/core/common_runtime/process_util.cc:146] Creating new thread pool with default inter op setting: 12. Tune using inter_op_parallelism_threads for best performance.\n"
     ]
    }
   ],
   "source": [
    "from src import *\n",
    "\n",
    "agent = Agent(restaurant_array=[2,6,2], grid_size=100, randseed=25)"
   ]
  },
  {
   "cell_type": "code",
   "execution_count": 5,
   "metadata": {},
   "outputs": [
    {
     "name": "stdout",
     "output_type": "stream",
     "text": [
      "[[1], [1], [0], [0], [0], [0], [1], [2], [1]]\n",
      "actions: 4, reward: -6070.69, e: 1.000\n",
      "[[0], [1], [1], [1], [0], [1], [1], [2], [1]]\n",
      "actions: 8, reward: -10195.53, e: 0.961\n",
      "[[0], [1], [1], [0], [0], [0], [2], [2], [0]]\n",
      "actions: 4, reward: -6069.38, e: 0.923\n",
      "[[0], [1], [2], [0], [0], [0], [0], [2], [2]]\n",
      "actions: 8, reward: -8275.84, e: 0.887\n",
      "[[1], [1], [0], [0], [0], [0], [1], [2], [1]]\n",
      "actions: 4, reward: -6070.69, e: 0.852\n",
      "[[1], [1], [0], [1], [0], [2], [0], [2], [2]]\n",
      "actions: 10, reward: -12284.47, e: 0.819\n",
      "[[1], [1], [0], [0], [0], [1], [0], [2], [2]]\n",
      "actions: 7, reward: -8202.84, e: 0.786\n",
      "[[3], [1], [3], [0], [0], [0], [1], [2], [1]]\n",
      "actions: 12, reward: -16274.53, e: 0.756\n",
      "[[1], [1], [3], [0], [0], [0], [2], [2], [0]]\n",
      "actions: 9, reward: -12195.53, e: 0.726\n",
      "[[0], [1], [1], [0], [0], [1], [0], [2], [2]]\n",
      "actions: 8, reward: -8267.22, e: 0.697\n"
     ]
    }
   ],
   "source": [
    "agent.train_by_timestamp(episodes=200, batch_size=32, epsilon=1.0, epsilon_decay=0.998)"
   ]
  },
  {
   "cell_type": "code",
   "execution_count": 2,
   "metadata": {},
   "outputs": [
    {
     "name": "stdout",
     "output_type": "stream",
     "text": [
      "[[0], [0], [0], [0], [0], [0], [0], [0], [0]], t: 0.000s\n",
      "[[10], [5], [1], [4], [1], [1], [5], [6], [1]], t: 43.302s\n",
      "[[26], [2], [0], [6], [1], [1], [5], [2], [0]], t: 90.741s\n",
      "[[30], [0], [0], [7], [5], [0], [6], [3], [0]], t: 138.301s\n",
      "[[41], [1], [0], [6], [1], [0], [12], [5], [0]], t: 186.587s\n",
      "[[45], [1], [1], [2], [0], [0], [15], [0], [0]], t: 234.905s\n",
      "episode: 1/1, score: -109935.70, e: 1.00, actions: 186, t: 257.80s\n"
     ]
    }
   ],
   "source": [
    "episodios_terminados = 0\n",
    "rewards = agent.train(episodes=1, batch_size=16, epsilon=0.99**episodios_terminados, epsilon_decay=0.99)"
   ]
  },
  {
   "cell_type": "code",
   "execution_count": 11,
   "metadata": {},
   "outputs": [
    {
     "name": "stdout",
     "output_type": "stream",
     "text": [
      "[[-17679.332 -15960.908 -17717.92  -15751.001 -16711.785 -16665.559\n",
      "  -16166.655 -15989.374 -16822.434]]\n",
      "[[-18097.752 -16191.71  -18028.33  -16266.683 -17001.967 -17680.975\n",
      "  -16464.193 -16447.19  -17314.955]]\n"
     ]
    }
   ],
   "source": [
    "print(agent.model.predict([[1,1,0,0,0,0,1,2,0]], verbose=0))\n",
    "print(agent.target_model.predict([[2,3,0,1,0,0,2,2,0]], verbose=0))"
   ]
  },
  {
   "cell_type": "code",
   "execution_count": 4,
   "metadata": {},
   "outputs": [
    {
     "name": "stdout",
     "output_type": "stream",
     "text": [
      "[STATE]:  [[0], [3], [0], [0], [0], [0], [0], [2], [0]]\n",
      "[ACTION]: C_2++, R:-1\n",
      "[STATE]:  [[0], [3], [0], [0], [0], [0], [1], [2], [0]]\n",
      "[ACTION]: C_2++, R:-1\n",
      "[STATE]:  [[0], [3], [0], [0], [0], [0], [2], [2], [0]]\n",
      "[ACTION]: C_2++, R:-1\n",
      "[STATE]:  [[0], [3], [0], [0], [0], [0], [3], [2], [0]]\n",
      "[ACTION]: C_2++, R:-1\n",
      "[STATE]:  [[0], [3], [0], [0], [0], [0], [4], [2], [0]]\n",
      "[ACTION]: C_2++, R:-1\n",
      "[STATE]:  [[0], [3], [0], [0], [0], [0], [5], [2], [0]]\n",
      "[ACTION]: C_2++, R:-1\n",
      "[STATE]:  [[0], [3], [0], [0], [0], [0], [6], [2], [0]]\n",
      "[ACTION]: C_2++, R:-1\n",
      "[STATE]:  [[0], [3], [0], [0], [0], [0], [7], [2], [0]]\n",
      "[ACTION]: C_2++, R:-1\n",
      "[STATE]:  [[0], [3], [0], [0], [0], [0], [8], [2], [0]]\n",
      "[ACTION]: C_2++, R:-1\n",
      "[STATE]:  [[0], [3], [0], [0], [0], [0], [9], [2], [0]]\n",
      "[ACTION]: C_2++, R:-1\n",
      "[STATE]:  [[0], [3], [0], [0], [0], [0], [10], [2], [0]]\n",
      "[ACTION]: C_2++, R:-1\n",
      "[STATE]:  [[0], [3], [0], [0], [0], [0], [11], [2], [0]]\n",
      "[ACTION]: C_2++, R:-1\n",
      "[STATE]:  [[0], [3], [0], [0], [0], [0], [12], [2], [0]]\n",
      "[ACTION]: C_2++, R:-1\n",
      "[STATE]:  [[0], [3], [0], [0], [0], [0], [13], [2], [0]]\n",
      "[ACTION]: C_2++, R:-1\n",
      "[STATE]:  [[0], [3], [0], [0], [0], [0], [14], [2], [0]]\n",
      "[ACTION]: C_2++, R:-1\n",
      "[STATE]:  [[0], [3], [0], [0], [0], [0], [15], [2], [0]]\n",
      "[ACTION]: C_2++, R:-1\n",
      "[STATE]:  [[0], [3], [0], [0], [0], [0], [16], [2], [0]]\n",
      "[ACTION]: C_2++, R:-1\n",
      "[STATE]:  [[0], [3], [0], [0], [0], [0], [17], [2], [0]]\n",
      "[ACTION]: C_2++, R:-1\n",
      "[STATE]:  [[0], [3], [0], [0], [0], [0], [18], [2], [0]]\n",
      "[ACTION]: C_2++, R:-1\n",
      "[STATE]:  [[0], [3], [0], [0], [0], [0], [19], [2], [0]]\n",
      "[ACTION]: C_2++, R:-1\n",
      "[STATE]:  [[0], [3], [0], [0], [0], [0], [20], [2], [0]]\n",
      "[ACTION]: C_2++, R:-1\n",
      "[STATE]:  [[0], [3], [0], [0], [0], [0], [21], [2], [0]]\n",
      "[ACTION]: C_2++, R:-1\n",
      "[STATE]:  [[0], [3], [0], [0], [0], [0], [22], [2], [0]]\n",
      "[ACTION]: C_2++, R:-1\n",
      "[STATE]:  [[0], [3], [0], [0], [0], [0], [23], [2], [0]]\n",
      "[ACTION]: C_2++, R:-1\n",
      "[STATE]:  [[0], [3], [0], [0], [0], [0], [24], [2], [0]]\n",
      "[ACTION]: C_2++, R:-1\n",
      "[STATE]:  [[0], [3], [0], [0], [0], [0], [25], [2], [0]]\n",
      "[ACTION]: C_2++, R:-1\n",
      "[STATE]:  [[0], [3], [0], [0], [0], [0], [26], [2], [0]]\n",
      "[ACTION]: C_2++, R:-1\n",
      "[STATE]:  [[0], [3], [0], [0], [0], [0], [27], [2], [0]]\n",
      "[ACTION]: C_2++, R:-1\n",
      "[STATE]:  [[0], [3], [0], [0], [0], [0], [28], [2], [0]]\n",
      "[ACTION]: C_2++, R:-1\n",
      "[STATE]:  [[0], [3], [0], [0], [0], [0], [29], [2], [0]]\n",
      "[ACTION]: C_2++, R:-1\n",
      "[STATE]:  [[0], [3], [0], [0], [0], [0], [30], [2], [0]]\n",
      "[ACTION]: C_2++, R:-1\n",
      "[STATE]:  [[0], [3], [0], [0], [0], [0], [31], [2], [0]]\n",
      "[ACTION]: C_2++, R:-1\n",
      "[STATE]:  [[0], [3], [0], [0], [0], [0], [32], [2], [0]]\n",
      "[ACTION]: C_2++, R:-1\n",
      "[STATE]:  [[0], [3], [0], [0], [0], [0], [33], [2], [0]]\n",
      "[ACTION]: C_2++, R:-1\n",
      "[STATE]:  [[0], [3], [0], [0], [0], [0], [34], [2], [0]]\n",
      "[ACTION]: C_2++, R:-1\n",
      "[STATE]:  [[0], [3], [0], [0], [0], [0], [35], [2], [0]]\n",
      "[ACTION]: C_2++, R:-1\n",
      "[STATE]:  [[0], [3], [0], [0], [0], [0], [36], [2], [0]]\n",
      "[ACTION]: C_2++, R:-1\n",
      "[STATE]:  [[0], [3], [0], [0], [0], [0], [37], [2], [0]]\n",
      "[ACTION]: C_2++, R:-1\n",
      "[STATE]:  [[0], [3], [0], [0], [0], [0], [38], [2], [0]]\n",
      "[ACTION]: C_2++, R:-1\n",
      "[STATE]:  [[0], [3], [0], [0], [0], [0], [39], [2], [0]]\n",
      "[ACTION]: C_2++, R:-1\n",
      "[STATE]:  [[0], [3], [0], [0], [0], [0], [40], [2], [0]]\n",
      "[ACTION]: C_2++, R:-1\n",
      "[STATE]:  [[0], [3], [0], [0], [0], [0], [41], [2], [0]]\n",
      "[ACTION]: C_2++, R:-1\n",
      "[STATE]:  [[0], [3], [0], [0], [0], [0], [42], [2], [0]]\n",
      "[ACTION]: C_2++, R:-1\n",
      "[STATE]:  [[0], [3], [0], [0], [0], [0], [43], [2], [0]]\n",
      "[ACTION]: C_2++, R:-1\n",
      "[STATE]:  [[0], [3], [0], [0], [0], [0], [44], [2], [0]]\n",
      "[ACTION]: C_2++, R:-1\n",
      "[STATE]:  [[0], [3], [0], [0], [0], [0], [45], [2], [0]]\n",
      "[ACTION]: C_2++, R:-1\n",
      "[STATE]:  [[0], [3], [0], [0], [0], [0], [46], [2], [0]]\n",
      "[ACTION]: C_2++, R:-1\n",
      "[STATE]:  [[0], [3], [0], [0], [0], [0], [47], [2], [0]]\n",
      "[ACTION]: C_2++, R:-1\n",
      "[STATE]:  [[0], [3], [0], [0], [0], [0], [48], [2], [0]]\n",
      "[ACTION]: C_2++, R:-1\n",
      "[STATE]:  [[0], [3], [0], [0], [0], [0], [49], [2], [0]]\n",
      "[ACTION]: C_2++, R:-1\n",
      "[STATE]:  [[0], [3], [0], [0], [0], [0], [50], [2], [0]]\n",
      "[ACTION]: C_2++, R:-1\n",
      "[STATE]:  [[0], [3], [0], [0], [0], [0], [51], [2], [0]]\n",
      "[ACTION]: C_2++, R:-1\n",
      "[STATE]:  [[0], [3], [0], [0], [0], [0], [52], [2], [0]]\n",
      "[ACTION]: C_2++, R:-1\n",
      "[STATE]:  [[0], [3], [0], [0], [0], [0], [53], [2], [0]]\n",
      "[ACTION]: C_2++, R:-1\n",
      "[STATE]:  [[0], [3], [0], [0], [0], [0], [54], [2], [0]]\n",
      "[ACTION]: C_2++, R:-1\n",
      "[STATE]:  [[0], [3], [0], [0], [0], [0], [55], [2], [0]]\n",
      "[ACTION]: C_2++, R:-1\n",
      "[STATE]:  [[0], [3], [0], [0], [0], [0], [56], [2], [0]]\n",
      "[ACTION]: C_2++, R:-1\n",
      "[STATE]:  [[0], [3], [0], [0], [0], [0], [57], [2], [0]]\n",
      "[ACTION]: C_2++, R:-1\n",
      "[STATE]:  [[0], [3], [0], [0], [0], [0], [58], [2], [0]]\n",
      "[ACTION]: C_2++, R:-1\n",
      "[STATE]:  [[0], [3], [0], [0], [0], [0], [59], [2], [0]]\n",
      "[ACTION]: C_2++, R:-1\n",
      "[STATE]:  [[0], [3], [0], [0], [0], [0], [60], [2], [0]]\n",
      "[ACTION]: C_2++, R:-1\n",
      "[STATE]:  [[0], [3], [0], [0], [0], [0], [61], [2], [0]]\n",
      "[ACTION]: C_2++, R:-1\n",
      "[STATE]:  [[0], [3], [0], [0], [0], [0], [62], [2], [0]]\n",
      "[ACTION]: C_2++, R:-1\n",
      "[STATE]:  [[0], [3], [0], [0], [0], [0], [63], [2], [0]]\n",
      "[ACTION]: C_2++, R:-1\n",
      "[STATE]:  [[0], [3], [0], [0], [0], [0], [64], [2], [0]]\n",
      "[ACTION]: C_2++, R:-1\n",
      "[STATE]:  [[0], [3], [0], [0], [0], [0], [65], [2], [0]]\n"
     ]
    },
    {
     "ename": "KeyboardInterrupt",
     "evalue": "",
     "output_type": "error",
     "traceback": [
      "\u001b[0;31m---------------------------------------------------------------------------\u001b[0m",
      "\u001b[0;31mKeyboardInterrupt\u001b[0m                         Traceback (most recent call last)",
      "Cell \u001b[0;32mIn[4], line 1\u001b[0m\n\u001b[0;32m----> 1\u001b[0m agent\u001b[39m.\u001b[39mtest_state([\u001b[39m0\u001b[39m,\u001b[39m3\u001b[39m,\u001b[39m0\u001b[39m,\u001b[39m0\u001b[39m,\u001b[39m0\u001b[39m,\u001b[39m0\u001b[39m,\u001b[39m0\u001b[39m,\u001b[39m2\u001b[39m,\u001b[39m0\u001b[39m])\n",
      "File \u001b[0;32m~/Tesis/cluster-mdrp/src/agent.py:255\u001b[0m, in \u001b[0;36mAgent.test_state\u001b[0;34m(self, state)\u001b[0m\n\u001b[1;32m    253\u001b[0m \u001b[39mwhile\u001b[39;00m \u001b[39mnot\u001b[39;00m done:\n\u001b[1;32m    254\u001b[0m     \u001b[39mprint\u001b[39m(\u001b[39m\"\u001b[39m\u001b[39m[STATE]: \u001b[39m\u001b[39m\"\u001b[39m, np\u001b[39m.\u001b[39mreshape(state, (\u001b[39mself\u001b[39m\u001b[39m.\u001b[39mstate_size, \u001b[39m1\u001b[39m))\u001b[39m.\u001b[39mtolist())\n\u001b[0;32m--> 255\u001b[0m     action \u001b[39m=\u001b[39m \u001b[39mself\u001b[39m\u001b[39m.\u001b[39mact(state, epsilon\u001b[39m=\u001b[39m\u001b[39m0\u001b[39m)\n\u001b[1;32m    256\u001b[0m     next_state, reward, done \u001b[39m=\u001b[39m \u001b[39mself\u001b[39m\u001b[39m.\u001b[39mtest_step(state, action, verbose\u001b[39m=\u001b[39m\u001b[39mTrue\u001b[39;00m)\n\u001b[1;32m    257\u001b[0m     next_state \u001b[39m=\u001b[39m np\u001b[39m.\u001b[39mreshape(next_state, [\u001b[39m1\u001b[39m, \u001b[39mself\u001b[39m\u001b[39m.\u001b[39mstate_size])\n",
      "File \u001b[0;32m~/Tesis/cluster-mdrp/src/agent.py:53\u001b[0m, in \u001b[0;36mAgent.act\u001b[0;34m(self, state, epsilon, return_value)\u001b[0m\n\u001b[1;32m     51\u001b[0m \u001b[39mif\u001b[39;00m np\u001b[39m.\u001b[39mrandom\u001b[39m.\u001b[39mrand() \u001b[39m<\u001b[39m\u001b[39m=\u001b[39m epsilon:\n\u001b[1;32m     52\u001b[0m     \u001b[39mreturn\u001b[39;00m random\u001b[39m.\u001b[39mchoice(possible_actions)\n\u001b[0;32m---> 53\u001b[0m act_values \u001b[39m=\u001b[39m \u001b[39mself\u001b[39m\u001b[39m.\u001b[39mmodel\u001b[39m.\u001b[39mpredict(state, verbose\u001b[39m=\u001b[39m\u001b[39m0\u001b[39m)\n\u001b[1;32m     54\u001b[0m act_values \u001b[39m=\u001b[39m [act_values[\u001b[39m0\u001b[39m][i] \u001b[39mif\u001b[39;00m i \u001b[39min\u001b[39;00m possible_actions \u001b[39melse\u001b[39;00m \u001b[39m-\u001b[39mnp\u001b[39m.\u001b[39mInfinity \u001b[39mfor\u001b[39;00m i \u001b[39min\u001b[39;00m \u001b[39mrange\u001b[39m(\u001b[39mlen\u001b[39m(act_values[\u001b[39m0\u001b[39m]))]\n\u001b[1;32m     55\u001b[0m \u001b[39mif\u001b[39;00m return_value: \u001b[39mreturn\u001b[39;00m np\u001b[39m.\u001b[39mamax(act_values)\n",
      "File \u001b[0;32m~/anaconda3/envs/tesis/lib/python3.11/site-packages/keras/utils/traceback_utils.py:65\u001b[0m, in \u001b[0;36mfilter_traceback.<locals>.error_handler\u001b[0;34m(*args, **kwargs)\u001b[0m\n\u001b[1;32m     63\u001b[0m filtered_tb \u001b[39m=\u001b[39m \u001b[39mNone\u001b[39;00m\n\u001b[1;32m     64\u001b[0m \u001b[39mtry\u001b[39;00m:\n\u001b[0;32m---> 65\u001b[0m     \u001b[39mreturn\u001b[39;00m fn(\u001b[39m*\u001b[39margs, \u001b[39m*\u001b[39m\u001b[39m*\u001b[39mkwargs)\n\u001b[1;32m     66\u001b[0m \u001b[39mexcept\u001b[39;00m \u001b[39mException\u001b[39;00m \u001b[39mas\u001b[39;00m e:\n\u001b[1;32m     67\u001b[0m     filtered_tb \u001b[39m=\u001b[39m _process_traceback_frames(e\u001b[39m.\u001b[39m__traceback__)\n",
      "File \u001b[0;32m~/anaconda3/envs/tesis/lib/python3.11/site-packages/keras/engine/training.py:2380\u001b[0m, in \u001b[0;36mModel.predict\u001b[0;34m(self, x, batch_size, verbose, steps, callbacks, max_queue_size, workers, use_multiprocessing)\u001b[0m\n\u001b[1;32m   2378\u001b[0m \u001b[39mfor\u001b[39;00m _, iterator \u001b[39min\u001b[39;00m data_handler\u001b[39m.\u001b[39menumerate_epochs():  \u001b[39m# Single epoch.\u001b[39;00m\n\u001b[1;32m   2379\u001b[0m     \u001b[39mwith\u001b[39;00m data_handler\u001b[39m.\u001b[39mcatch_stop_iteration():\n\u001b[0;32m-> 2380\u001b[0m         \u001b[39mfor\u001b[39;00m step \u001b[39min\u001b[39;00m data_handler\u001b[39m.\u001b[39msteps():\n\u001b[1;32m   2381\u001b[0m             callbacks\u001b[39m.\u001b[39mon_predict_batch_begin(step)\n\u001b[1;32m   2382\u001b[0m             tmp_batch_outputs \u001b[39m=\u001b[39m \u001b[39mself\u001b[39m\u001b[39m.\u001b[39mpredict_function(iterator)\n",
      "File \u001b[0;32m~/anaconda3/envs/tesis/lib/python3.11/site-packages/keras/engine/data_adapter.py:1375\u001b[0m, in \u001b[0;36mDataHandler.steps\u001b[0;34m(self)\u001b[0m\n\u001b[1;32m   1373\u001b[0m \u001b[39mif\u001b[39;00m \u001b[39mself\u001b[39m\u001b[39m.\u001b[39m_insufficient_data:  \u001b[39m# Set by `catch_stop_iteration`.\u001b[39;00m\n\u001b[1;32m   1374\u001b[0m     \u001b[39mbreak\u001b[39;00m\n\u001b[0;32m-> 1375\u001b[0m original_spe \u001b[39m=\u001b[39m \u001b[39mself\u001b[39m\u001b[39m.\u001b[39m_steps_per_execution\u001b[39m.\u001b[39mnumpy()\u001b[39m.\u001b[39mitem()\n\u001b[1;32m   1376\u001b[0m can_run_full_execution \u001b[39m=\u001b[39m (\n\u001b[1;32m   1377\u001b[0m     original_spe \u001b[39m==\u001b[39m \u001b[39m1\u001b[39m\n\u001b[1;32m   1378\u001b[0m     \u001b[39mor\u001b[39;00m \u001b[39mself\u001b[39m\u001b[39m.\u001b[39m_inferred_steps \u001b[39mis\u001b[39;00m \u001b[39mNone\u001b[39;00m\n\u001b[1;32m   1379\u001b[0m     \u001b[39mor\u001b[39;00m \u001b[39mself\u001b[39m\u001b[39m.\u001b[39m_inferred_steps \u001b[39m-\u001b[39m \u001b[39mself\u001b[39m\u001b[39m.\u001b[39m_current_step \u001b[39m>\u001b[39m\u001b[39m=\u001b[39m original_spe\n\u001b[1;32m   1380\u001b[0m )\n\u001b[1;32m   1382\u001b[0m \u001b[39mif\u001b[39;00m can_run_full_execution:\n",
      "File \u001b[0;32m~/anaconda3/envs/tesis/lib/python3.11/site-packages/tensorflow/python/ops/resource_variable_ops.py:647\u001b[0m, in \u001b[0;36mBaseResourceVariable.numpy\u001b[0;34m(self)\u001b[0m\n\u001b[1;32m    645\u001b[0m \u001b[39mdef\u001b[39;00m \u001b[39mnumpy\u001b[39m(\u001b[39mself\u001b[39m):\n\u001b[1;32m    646\u001b[0m   \u001b[39mif\u001b[39;00m context\u001b[39m.\u001b[39mexecuting_eagerly():\n\u001b[0;32m--> 647\u001b[0m     \u001b[39mreturn\u001b[39;00m \u001b[39mself\u001b[39m\u001b[39m.\u001b[39mread_value()\u001b[39m.\u001b[39mnumpy()\n\u001b[1;32m    648\u001b[0m   \u001b[39mraise\u001b[39;00m \u001b[39mNotImplementedError\u001b[39;00m(\n\u001b[1;32m    649\u001b[0m       \u001b[39m\"\u001b[39m\u001b[39mnumpy() is only available when eager execution is enabled.\u001b[39m\u001b[39m\"\u001b[39m)\n",
      "File \u001b[0;32m~/anaconda3/envs/tesis/lib/python3.11/site-packages/tensorflow/python/ops/resource_variable_ops.py:777\u001b[0m, in \u001b[0;36mBaseResourceVariable.read_value\u001b[0;34m(self)\u001b[0m\n\u001b[1;32m    774\u001b[0m   value \u001b[39m=\u001b[39m \u001b[39mself\u001b[39m\u001b[39m.\u001b[39m_read_variable_op()\n\u001b[1;32m    775\u001b[0m \u001b[39m# Return an identity so it can get placed on whatever device the context\u001b[39;00m\n\u001b[1;32m    776\u001b[0m \u001b[39m# specifies instead of the device where the variable is.\u001b[39;00m\n\u001b[0;32m--> 777\u001b[0m \u001b[39mreturn\u001b[39;00m array_ops\u001b[39m.\u001b[39midentity(value)\n",
      "File \u001b[0;32m~/anaconda3/envs/tesis/lib/python3.11/site-packages/tensorflow/python/util/traceback_utils.py:140\u001b[0m, in \u001b[0;36mfilter_traceback.<locals>.error_handler\u001b[0;34m(*args, **kwargs)\u001b[0m\n\u001b[1;32m    138\u001b[0m \u001b[39mdef\u001b[39;00m \u001b[39merror_handler\u001b[39m(\u001b[39m*\u001b[39margs, \u001b[39m*\u001b[39m\u001b[39m*\u001b[39mkwargs):\n\u001b[1;32m    139\u001b[0m   \u001b[39mtry\u001b[39;00m:\n\u001b[0;32m--> 140\u001b[0m     \u001b[39mif\u001b[39;00m \u001b[39mnot\u001b[39;00m is_traceback_filtering_enabled():\n\u001b[1;32m    141\u001b[0m       \u001b[39mreturn\u001b[39;00m fn(\u001b[39m*\u001b[39margs, \u001b[39m*\u001b[39m\u001b[39m*\u001b[39mkwargs)\n\u001b[1;32m    142\u001b[0m   \u001b[39mexcept\u001b[39;00m \u001b[39mNameError\u001b[39;00m:\n\u001b[1;32m    143\u001b[0m     \u001b[39m# In some very rare cases,\u001b[39;00m\n\u001b[1;32m    144\u001b[0m     \u001b[39m# `is_traceback_filtering_enabled` (from the outer scope) may not be\u001b[39;00m\n\u001b[1;32m    145\u001b[0m     \u001b[39m# accessible from inside this function\u001b[39;00m\n",
      "File \u001b[0;32m~/anaconda3/envs/tesis/lib/python3.11/site-packages/tensorflow/python/util/traceback_utils.py:47\u001b[0m, in \u001b[0;36mis_traceback_filtering_enabled\u001b[0;34m()\u001b[0m\n\u001b[1;32m     32\u001b[0m \u001b[39m@tf_export\u001b[39m(\u001b[39m'\u001b[39m\u001b[39mdebugging.is_traceback_filtering_enabled\u001b[39m\u001b[39m'\u001b[39m)\n\u001b[1;32m     33\u001b[0m \u001b[39mdef\u001b[39;00m \u001b[39mis_traceback_filtering_enabled\u001b[39m():\n\u001b[1;32m     34\u001b[0m   \u001b[39m\"\"\"Check whether traceback filtering is currently enabled.\u001b[39;00m\n\u001b[1;32m     35\u001b[0m \n\u001b[1;32m     36\u001b[0m \u001b[39m  See also `tf.debugging.enable_traceback_filtering()` and\u001b[39;00m\n\u001b[0;32m   (...)\u001b[0m\n\u001b[1;32m     45\u001b[0m \u001b[39m    was called).\u001b[39;00m\n\u001b[1;32m     46\u001b[0m \u001b[39m  \"\"\"\u001b[39;00m\n\u001b[0;32m---> 47\u001b[0m   value \u001b[39m=\u001b[39m \u001b[39mgetattr\u001b[39m(_ENABLE_TRACEBACK_FILTERING, \u001b[39m'\u001b[39m\u001b[39mvalue\u001b[39m\u001b[39m'\u001b[39m, \u001b[39mTrue\u001b[39;00m)\n\u001b[1;32m     48\u001b[0m   \u001b[39mreturn\u001b[39;00m value\n",
      "\u001b[0;31mKeyboardInterrupt\u001b[0m: "
     ]
    }
   ],
   "source": [
    "agent.test_state([0,3,0,0,0,0,0,2,0])"
   ]
  },
  {
   "cell_type": "code",
   "execution_count": null,
   "metadata": {},
   "outputs": [],
   "source": [
    "plt.plot(rewards)"
   ]
  },
  {
   "cell_type": "code",
   "execution_count": null,
   "metadata": {},
   "outputs": [],
   "source": [
    "agent.save(\"model\")"
   ]
  },
  {
   "cell_type": "code",
   "execution_count": null,
   "metadata": {},
   "outputs": [],
   "source": [
    "agent.test()"
   ]
  }
 ],
 "metadata": {
  "kernelspec": {
   "display_name": "tesis",
   "language": "python",
   "name": "python3"
  },
  "language_info": {
   "codemirror_mode": {
    "name": "ipython",
    "version": 3
   },
   "file_extension": ".py",
   "mimetype": "text/x-python",
   "name": "python",
   "nbconvert_exporter": "python",
   "pygments_lexer": "ipython3",
   "version": "3.11.3"
  },
  "orig_nbformat": 4,
  "vscode": {
   "interpreter": {
    "hash": "5eb9f84fefceafe1a3c435496fbe13a2b44a56f2830201ddc530946f22d6bea4"
   }
  }
 },
 "nbformat": 4,
 "nbformat_minor": 2
}
