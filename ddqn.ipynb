{
 "cells": [
  {
   "cell_type": "code",
   "execution_count": 1,
   "metadata": {},
   "outputs": [
    {
     "name": "stderr",
     "output_type": "stream",
     "text": [
      "2023-08-04 13:02:15.938302: I tensorflow/core/platform/cpu_feature_guard.cc:182] This TensorFlow binary is optimized to use available CPU instructions in performance-critical operations.\n",
      "To enable the following instructions: SSE4.1 SSE4.2 AVX AVX2 FMA, in other operations, rebuild TensorFlow with the appropriate compiler flags.\n"
     ]
    }
   ],
   "source": [
    "# %load_ext memory_profiler\n",
    "from src import *\n",
    "\n",
    "import psutil\n",
    "import gc\n",
    "\n",
    "def get_memory_usage():\n",
    "    process = psutil.Process()\n",
    "    memory_usage = process.memory_info().rss / 1024 / 1024\n",
    "    print(f\"Memory usage at the end: {memory_usage:.2f} MB\")"
   ]
  },
  {
   "cell_type": "code",
   "execution_count": 2,
   "metadata": {},
   "outputs": [
    {
     "name": "stdout",
     "output_type": "stream",
     "text": [
      "Memory usage at the end: 454.15 MB\n"
     ]
    }
   ],
   "source": [
    "agent = Agent(restaurant_array=[2,6,2], grid_size=100, randseed=25, filename=\"model\")\n",
    "get_memory_usage()"
   ]
  },
  {
   "cell_type": "code",
   "execution_count": 3,
   "metadata": {},
   "outputs": [],
   "source": [
    "import tensorflow as tf\n",
    "class MyCustomCallback(tf.keras.callbacks.Callback):\n",
    "    def on_epoch_end(self, epoch, logs=None):\n",
    "        gc.collect()"
   ]
  },
  {
   "cell_type": "code",
   "execution_count": 32,
   "metadata": {},
   "outputs": [
    {
     "name": "stdout",
     "output_type": "stream",
     "text": [
      "peak memory: 529.88 MiB, increment: 0.00 MiB\n"
     ]
    }
   ],
   "source": [
    "%memit \n",
    "for _ in range(10):\n",
    "    agent.model.fit(np.random.random((1,9)), np.random.random((1,9)), epochs=1, verbose=0)#, callbacks=[MyCustomCallback()])\n",
    "    # gc.collect()\n",
    "    tf.keras.backend.clear_session()\n",
    "# get_memory_usage()"
   ]
  },
  {
   "cell_type": "code",
   "execution_count": 3,
   "metadata": {},
   "outputs": [
    {
     "name": "stdout",
     "output_type": "stream",
     "text": [
      "[[0], [0], [0], [0], [0], [0], [0], [0], [0]], t: 0.000s\n",
      "[[12], [2], [2], [4], [4], [1], [5], [6], [1]], t: 31.075s\n",
      "[[30], [2], [2], [1], [0], [0], [20], [0], [1]], t: 80.654s\n",
      "[[35], [1], [0], [3], [4], [1], [21], [1], [0]], t: 131.391s\n",
      "[[43], [0], [0], [8], [1], [0], [29], [1], [0]], t: 177.145s\n",
      "[[53], [0], [1], [4], [3], [0], [26], [1], [1]], t: 213.756s\n",
      "episode: 1/1, score: -147358.56, e: 1.00, actions: 231, t: 228.68s\n",
      "Memory usage at the end: 1206.74 MB\n"
     ]
    }
   ],
   "source": [
    "episodios_terminados = 0\n",
    "rewards = agent.train(episodes=1, batch_size=8, epsilon=0.99**episodios_terminados, epsilon_decay=0.99)\n",
    "get_memory_usage()"
   ]
  },
  {
   "cell_type": "code",
   "execution_count": 3,
   "metadata": {},
   "outputs": [
    {
     "name": "stdout",
     "output_type": "stream",
     "text": [
      "[[0], [0], [0], [0], [0], [0], [0], [0], [0]], t: 0.000s\n",
      "[[10], [5], [0], [23], [1], [1], [8], [7], [2]], t: 24.448s\n",
      "[[5], [1], [0], [42], [0], [0], [8], [0], [1]], t: 49.209s\n",
      "[[2], [2], [0], [46], [0], [0], [5], [3], [0]], t: 73.271s\n",
      "[[6], [1], [0], [53], [1], [0], [6], [4], [1]], t: 98.439s\n",
      "[[5], [2], [3], [63], [0], [0], [2], [3], [1]], t: 122.144s\n",
      "episode: 1/1, score: -140040.56, e: 1.00, actions: 233, t: 133.06s\n",
      "Memory usage at the end: 1228.41 MB\n"
     ]
    }
   ],
   "source": [
    "episodios_terminados = 0\n",
    "rewards = agent.train(episodes=1, batch_size=8, epsilon=0.99**episodios_terminados, epsilon_decay=0.99)\n",
    "get_memory_usage()"
   ]
  },
  {
   "cell_type": "code",
   "execution_count": 49,
   "metadata": {},
   "outputs": [
    {
     "name": "stdout",
     "output_type": "stream",
     "text": [
      "Memory usage at the end: 517.58 MB\n"
     ]
    }
   ],
   "source": [
    "agent.reset()\n",
    "get_memory_usage()"
   ]
  },
  {
   "cell_type": "code",
   "execution_count": 15,
   "metadata": {},
   "outputs": [
    {
     "data": {
      "image/png": "[encoded data removed]",
      "text/plain": [
       "<Figure size 640x480 with 1 Axes>"
      ]
     },
     "metadata": {},
     "output_type": "display_data"
    }
   ],
   "source": [
    "agent.map.display_map_clusters()"
   ]
  },
  {
   "cell_type": "code",
   "execution_count": 2,
   "metadata": {},
   "outputs": [
    {
     "name": "stdout",
     "output_type": "stream",
     "text": [
      "[[1], [0], [1], [0], [0], [2], [1], [2], [1]]\n",
      "actions: 10, reward: -12274.53, e: 1.000\n",
      "[[0], [0], [0], [0], [0], [0], [0], [2], [2]]\n",
      "actions: 4, reward: -4142.39, e: 0.961\n",
      "[[0], [0], [0], [0], [0], [1], [0], [2], [2]]\n",
      "actions: 6, reward: -6204.15, e: 0.923\n",
      "[[0], [0], [0], [0], [0], [0], [0], [2], [2]]\n",
      "actions: 4, reward: -4142.39, e: 0.887\n",
      "[[0], [0], [0], [1], [0], [0], [0], [2], [2]]\n",
      "actions: 5, reward: -6139.77, e: 0.852\n",
      "[[0], [0], [1], [0], [0], [0], [0], [2], [2]]\n",
      "actions: 6, reward: -6214.08, e: 0.819\n",
      "[[0], [0], [0], [0], [0], [1], [0], [2], [2]]\n",
      "actions: 6, reward: -6202.84, e: 0.786\n",
      "[[1], [0], [0], [1], [0], [0], [1], [2], [1]]\n",
      "actions: 5, reward: -8070.69, e: 0.756\n",
      "[[0], [0], [0], [0], [0], [0], [1], [2], [1]]\n",
      "actions: 3, reward: -4069.38, e: 0.726\n",
      "[[0], [0], [0], [0], [0], [1], [2], [2], [0]]\n",
      "actions: 4, reward: -6062.07, e: 0.697\n"
     ]
    }
   ],
   "source": [
    "agent.train_by_timestamp(episodes=200, batch_size=32, epsilon=1.0, epsilon_decay=0.998)"
   ]
  },
  {
   "cell_type": "code",
   "execution_count": 2,
   "metadata": {},
   "outputs": [
    {
     "name": "stdout",
     "output_type": "stream",
     "text": [
      "[[0], [0], [0], [0], [0], [0], [0], [0], [0]], t: 0.000s\n",
      "[[10], [5], [1], [4], [1], [1], [5], [6], [1]], t: 43.302s\n",
      "[[26], [2], [0], [6], [1], [1], [5], [2], [0]], t: 90.741s\n",
      "[[30], [0], [0], [7], [5], [0], [6], [3], [0]], t: 138.301s\n",
      "[[41], [1], [0], [6], [1], [0], [12], [5], [0]], t: 186.587s\n",
      "[[45], [1], [1], [2], [0], [0], [15], [0], [0]], t: 234.905s\n",
      "episode: 1/1, score: -109935.70, e: 1.00, actions: 186, t: 257.80s\n"
     ]
    }
   ],
   "source": [
    "episodios_terminados = 0\n",
    "rewards = agent.train(episodes=1, batch_size=16, epsilon=0.99**episodios_terminados, epsilon_decay=0.99)"
   ]
  },
  {
   "cell_type": "code",
   "execution_count": 6,
   "metadata": {},
   "outputs": [
    {
     "name": "stdout",
     "output_type": "stream",
     "text": [
      "[[-2085.7944   -408.63287 -1798.7513   -479.4364  -2223.0164  -1850.5782\n",
      "  -2277.6301  -2336.8735  -2568.7932 ]]\n"
     ]
    }
   ],
   "source": [
    "print(agent.model.predict([[0,1,0,0,0,0,1,2,0]], verbose=0))\n",
    "# print(agent.target_model.predict([[2,3,0,1,0,0,2,2,0]], verbose=0))"
   ]
  },
  {
   "cell_type": "code",
   "execution_count": 7,
   "metadata": {},
   "outputs": [
    {
     "name": "stdout",
     "output_type": "stream",
     "text": [
      "[STATE]:  [[0], [1], [0], [0], [0], [0], [0], [2], [0]]\n",
      "[ACTION]: C_0++, R:-1\n",
      "[STATE]:  [[1], [1], [0], [0], [0], [0], [0], [2], [0]]\n",
      "[ACTION]: C_0 -> C_2, R: -0.03584689665786984\n",
      "[STATE]:  [[0], [1], [0], [0], [0], [0], [0], [2], [1]]\n",
      "[ACTION]: C_0++, R:-1\n",
      "[STATE]:  [[1], [1], [0], [0], [0], [0], [0], [2], [1]]\n",
      "[ACTION]: C_0 -> C_2, R: -0.03584689665786984\n",
      "[STATE]:  [[0], [1], [0], [0], [0], [0], [0], [2], [2]]\n",
      "[ACTION]: C_0++, R:-1\n",
      "score: -3.07\n"
     ]
    }
   ],
   "source": [
    "agent.test_state([0,1,0,0,0,0,0,2,0])"
   ]
  },
  {
   "cell_type": "code",
   "execution_count": null,
   "metadata": {},
   "outputs": [],
   "source": [
    "plt.plot(rewards)"
   ]
  },
  {
   "cell_type": "code",
   "execution_count": 4,
   "metadata": {},
   "outputs": [],
   "source": [
    "agent.save(\"model\")"
   ]
  },
  {
   "cell_type": "code",
   "execution_count": null,
   "metadata": {},
   "outputs": [],
   "source": [
    "agent.test()"
   ]
  }
 ],
 "metadata": {
  "kernelspec": {
   "display_name": "tesis",
   "language": "python",
   "name": "python3"
  },
  "language_info": {
   "codemirror_mode": {
    "name": "ipython",
    "version": 3
   },
   "file_extension": ".py",
   "mimetype": "text/x-python",
   "name": "python",
   "nbconvert_exporter": "python",
   "pygments_lexer": "ipython3",
   "version": "3.11.3"
  },
  "orig_nbformat": 4,
  "vscode": {
   "interpreter": {
    "hash": "5eb9f84fefceafe1a3c435496fbe13a2b44a56f2830201ddc530946f22d6bea4"
   }
  }
 },
 "nbformat": 4,
 "nbformat_minor": 2
}
